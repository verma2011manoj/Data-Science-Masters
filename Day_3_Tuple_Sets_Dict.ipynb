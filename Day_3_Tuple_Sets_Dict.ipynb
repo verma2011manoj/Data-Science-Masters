{
 "cells": [
  {
   "cell_type": "code",
   "execution_count": 22,
   "id": "f8849aa5-36a4-454c-b1aa-7a1ae2960fc7",
   "metadata": {},
   "outputs": [],
   "source": [
    "#Tuple\n",
    "t1= (1,2,3,4,5,3,54,\"Manoj\",2+3j,-1)"
   ]
  },
  {
   "cell_type": "code",
   "execution_count": 19,
   "id": "984f464c-f7cf-4317-9988-8a965ff3be01",
   "metadata": {},
   "outputs": [
    {
     "data": {
      "text/plain": [
       "(1, 2, 3, 4, 5, 54, 'Manoj', (2+3j), -1)"
      ]
     },
     "execution_count": 19,
     "metadata": {},
     "output_type": "execute_result"
    }
   ],
   "source": [
    "t1"
   ]
  },
  {
   "cell_type": "code",
   "execution_count": 3,
   "id": "a7fe7e43-32c3-49cb-998b-5877b0aecda2",
   "metadata": {},
   "outputs": [
    {
     "data": {
      "text/plain": [
       "tuple"
      ]
     },
     "execution_count": 3,
     "metadata": {},
     "output_type": "execute_result"
    }
   ],
   "source": [
    "type(t1)"
   ]
  },
  {
   "cell_type": "code",
   "execution_count": 4,
   "id": "1c5cb5cb-6273-47bd-ac03-330480a3ecb8",
   "metadata": {},
   "outputs": [
    {
     "data": {
      "text/plain": [
       "complex"
      ]
     },
     "execution_count": 4,
     "metadata": {},
     "output_type": "execute_result"
    }
   ],
   "source": [
    "type(2+3j)"
   ]
  },
  {
   "cell_type": "code",
   "execution_count": 6,
   "id": "37d546e9-5a45-4982-8531-42654a751ce5",
   "metadata": {},
   "outputs": [
    {
     "data": {
      "text/plain": [
       "(-1, (2+3j), 'Manoj', 54, 5, 4, 3, 2, 1)"
      ]
     },
     "execution_count": 6,
     "metadata": {},
     "output_type": "execute_result"
    }
   ],
   "source": [
    "t1[::-1]"
   ]
  },
  {
   "cell_type": "code",
   "execution_count": 7,
   "id": "3bffee3c-c780-4d66-bab6-307a9c18bf15",
   "metadata": {},
   "outputs": [
    {
     "data": {
      "text/plain": [
       "int"
      ]
     },
     "execution_count": 7,
     "metadata": {},
     "output_type": "execute_result"
    }
   ],
   "source": [
    "type(-1)"
   ]
  },
  {
   "cell_type": "code",
   "execution_count": 9,
   "id": "7c658226-7198-41f2-a7e0-b978317f47d3",
   "metadata": {},
   "outputs": [
    {
     "data": {
      "text/plain": [
       "(-1, (2+3j), 'Manoj', 54, 5, 4, 3, 2, 1)"
      ]
     },
     "execution_count": 9,
     "metadata": {},
     "output_type": "execute_result"
    }
   ],
   "source": [
    "t2= t1[::-1]\n",
    "t2"
   ]
  },
  {
   "cell_type": "code",
   "execution_count": 10,
   "id": "2eb478b9-fc56-44c5-9b3a-022a27c38223",
   "metadata": {},
   "outputs": [
    {
     "data": {
      "text/plain": [
       "(1, 2, 3, 4, 5, 54, 'Manoj', (2+3j), -1)"
      ]
     },
     "execution_count": 10,
     "metadata": {},
     "output_type": "execute_result"
    }
   ],
   "source": [
    "t2= t2[::-1]\n",
    "t2"
   ]
  },
  {
   "cell_type": "code",
   "execution_count": 15,
   "id": "61bae01f-9f89-4d5e-b3c4-c335876b4cfe",
   "metadata": {},
   "outputs": [
    {
     "data": {
      "text/plain": [
       "0"
      ]
     },
     "execution_count": 15,
     "metadata": {},
     "output_type": "execute_result"
    }
   ],
   "source": [
    "t1.count(4)"
   ]
  },
  {
   "cell_type": "code",
   "execution_count": 24,
   "id": "82c55395-a0a6-4b62-96af-7ec98e8f1f39",
   "metadata": {},
   "outputs": [
    {
     "data": {
      "text/plain": [
       "2"
      ]
     },
     "execution_count": 24,
     "metadata": {},
     "output_type": "execute_result"
    }
   ],
   "source": [
    "t1.index(3)"
   ]
  },
  {
   "cell_type": "code",
   "execution_count": 23,
   "id": "6668d096-124a-4b56-aa0a-5a29b2a9e6d9",
   "metadata": {},
   "outputs": [
    {
     "data": {
      "text/plain": [
       "(1, 2, 3, 4, 5, 3, 54, 'Manoj', (2+3j), -1)"
      ]
     },
     "execution_count": 23,
     "metadata": {},
     "output_type": "execute_result"
    }
   ],
   "source": [
    "t1"
   ]
  },
  {
   "cell_type": "code",
   "execution_count": 25,
   "id": "e7328cd7-e03a-4058-b269-6bea6aadcacb",
   "metadata": {},
   "outputs": [
    {
     "ename": "AttributeError",
     "evalue": "'tuple' object has no attribute 'append'",
     "output_type": "error",
     "traceback": [
      "\u001b[0;31m---------------------------------------------------------------------------\u001b[0m",
      "\u001b[0;31mAttributeError\u001b[0m                            Traceback (most recent call last)",
      "Cell \u001b[0;32mIn[25], line 1\u001b[0m\n\u001b[0;32m----> 1\u001b[0m \u001b[43mt1\u001b[49m\u001b[38;5;241;43m.\u001b[39;49m\u001b[43mappend\u001b[49m(\u001b[38;5;28;01mTrue\u001b[39;00m)\n",
      "\u001b[0;31mAttributeError\u001b[0m: 'tuple' object has no attribute 'append'"
     ]
    }
   ],
   "source": [
    "t1.append(True)"
   ]
  },
  {
   "cell_type": "code",
   "execution_count": 26,
   "id": "3dc28c9a-0515-4ad0-b1f5-e98b9caf8c20",
   "metadata": {},
   "outputs": [
    {
     "ename": "TypeError",
     "evalue": "'tuple' object does not support item assignment",
     "output_type": "error",
     "traceback": [
      "\u001b[0;31m---------------------------------------------------------------------------\u001b[0m",
      "\u001b[0;31mTypeError\u001b[0m                                 Traceback (most recent call last)",
      "Cell \u001b[0;32mIn[26], line 1\u001b[0m\n\u001b[0;32m----> 1\u001b[0m \u001b[43mt1\u001b[49m\u001b[43m[\u001b[49m\u001b[38;5;241;43m1\u001b[39;49m\u001b[43m]\u001b[49m\u001b[38;5;241m=\u001b[39m \u001b[38;5;241m55\u001b[39m\n",
      "\u001b[0;31mTypeError\u001b[0m: 'tuple' object does not support item assignment"
     ]
    }
   ],
   "source": [
    "t1[1]= 55"
   ]
  },
  {
   "cell_type": "code",
   "execution_count": 28,
   "id": "24629064-bd32-4814-accb-48d55c674ddb",
   "metadata": {},
   "outputs": [
    {
     "data": {
      "text/plain": [
       "[2, 1, 45, 5, 6, 6, 4, 4, 3]"
      ]
     },
     "execution_count": 28,
     "metadata": {},
     "output_type": "execute_result"
    }
   ],
   "source": [
    "l1=[2,1,45,5,6,6,4,4,3]\n",
    "l1"
   ]
  },
  {
   "cell_type": "code",
   "execution_count": 32,
   "id": "a314258e-1eb7-407f-8f41-a52309d57ee3",
   "metadata": {},
   "outputs": [
    {
     "data": {
      "text/plain": [
       "['Begin', 'Start', 45, 5, 6, 6, 4, 4, 3]"
      ]
     },
     "execution_count": 32,
     "metadata": {},
     "output_type": "execute_result"
    }
   ],
   "source": [
    "l1[0]= \"Start\" \n",
    "l1[0]= \"Begin\"\n",
    "l1"
   ]
  },
  {
   "cell_type": "code",
   "execution_count": 41,
   "id": "c117aac2-f2a2-483f-9cc2-564276a83cac",
   "metadata": {},
   "outputs": [
    {
     "name": "stdout",
     "output_type": "stream",
     "text": [
      "<class 'int'> = 1\n",
      "<class 'int'> = 2\n",
      "<class 'int'> = 3\n",
      "<class 'int'> = 4\n",
      "<class 'int'> = 5\n",
      "<class 'int'> = 3\n",
      "<class 'int'> = 54\n",
      "<class 'str'> = Manoj\n",
      "<class 'complex'> = (2+3j)\n",
      "<class 'int'> = -1\n"
     ]
    }
   ],
   "source": [
    "for item in t1:\n",
    "    print (type(item),\"=\",item)"
   ]
  },
  {
   "cell_type": "code",
   "execution_count": 48,
   "id": "a78fa89a-3d48-4aa5-82ef-557d3c556845",
   "metadata": {},
   "outputs": [
    {
     "data": {
      "text/plain": [
       "tuple"
      ]
     },
     "execution_count": 48,
     "metadata": {},
     "output_type": "execute_result"
    }
   ],
   "source": [
    "t3= (1,2,34,5,3)\n",
    "type(t3)"
   ]
  },
  {
   "cell_type": "code",
   "execution_count": 51,
   "id": "280ce597-6d1f-4252-b4b3-4283556eb1d4",
   "metadata": {},
   "outputs": [
    {
     "data": {
      "text/plain": [
       "34"
      ]
     },
     "execution_count": 51,
     "metadata": {},
     "output_type": "execute_result"
    }
   ],
   "source": [
    "max(t3)"
   ]
  },
  {
   "cell_type": "code",
   "execution_count": 49,
   "id": "c9c42ba3-cd00-4438-9cf8-5d1971997c61",
   "metadata": {},
   "outputs": [
    {
     "data": {
      "text/plain": [
       "1"
      ]
     },
     "execution_count": 49,
     "metadata": {},
     "output_type": "execute_result"
    }
   ],
   "source": [
    "min(t3)"
   ]
  },
  {
   "cell_type": "code",
   "execution_count": 53,
   "id": "c5ae2c39-599c-43b4-9df1-5aa327377b94",
   "metadata": {},
   "outputs": [
    {
     "data": {
      "text/plain": [
       "9.0"
      ]
     },
     "execution_count": 53,
     "metadata": {},
     "output_type": "execute_result"
    }
   ],
   "source": [
    "#Average\n",
    "sum(t3)/len(t3)"
   ]
  },
  {
   "cell_type": "code",
   "execution_count": 66,
   "id": "d53d6bdb-bd45-446c-9d11-e2c9d48ea980",
   "metadata": {},
   "outputs": [
    {
     "data": {
      "text/plain": [
       "(1, 2, 34, 5, 3, 1, 2, 3, 4, 5, 54, 'Manoj', (2+3j), -1)"
      ]
     },
     "execution_count": 66,
     "metadata": {},
     "output_type": "execute_result"
    }
   ],
   "source": [
    "t4=t3+t2\n",
    "t4\n"
   ]
  },
  {
   "cell_type": "code",
   "execution_count": 57,
   "id": "cead23cd-6544-4014-a4ff-e666521cabd9",
   "metadata": {},
   "outputs": [
    {
     "data": {
      "text/plain": [
       "((1, 2, 34, 5, 3), (1, 2, 3, 4, 5, 54, 'Manoj', (2+3j), -1))"
      ]
     },
     "execution_count": 57,
     "metadata": {},
     "output_type": "execute_result"
    }
   ],
   "source": [
    "t5=(t3,t2)\n",
    "t5"
   ]
  },
  {
   "cell_type": "code",
   "execution_count": 67,
   "id": "6045c144-bf94-435f-aefc-e066f33fb291",
   "metadata": {},
   "outputs": [
    {
     "ename": "NameError",
     "evalue": "name 't5' is not defined",
     "output_type": "error",
     "traceback": [
      "\u001b[0;31m---------------------------------------------------------------------------\u001b[0m",
      "\u001b[0;31mNameError\u001b[0m                                 Traceback (most recent call last)",
      "Cell \u001b[0;32mIn[67], line 1\u001b[0m\n\u001b[0;32m----> 1\u001b[0m \u001b[43mt5\u001b[49m\n\u001b[1;32m      2\u001b[0m \u001b[38;5;28;01mdel\u001b[39;00m t5\n",
      "\u001b[0;31mNameError\u001b[0m: name 't5' is not defined"
     ]
    }
   ],
   "source": [
    "t5\n",
    "del t5"
   ]
  },
  {
   "cell_type": "code",
   "execution_count": 69,
   "id": "0614b808-6d63-420d-9af1-3d486dff9ef0",
   "metadata": {},
   "outputs": [
    {
     "data": {
      "text/plain": [
       "10"
      ]
     },
     "execution_count": 69,
     "metadata": {},
     "output_type": "execute_result"
    }
   ],
   "source": [
    "len(t1)"
   ]
  },
  {
   "cell_type": "code",
   "execution_count": 71,
   "id": "6ba16262-a761-4da5-8d92-f00b60920257",
   "metadata": {},
   "outputs": [
    {
     "data": {
      "text/plain": [
       "True"
      ]
     },
     "execution_count": 71,
     "metadata": {},
     "output_type": "execute_result"
    }
   ],
   "source": [
    "3 in t1"
   ]
  },
  {
   "cell_type": "code",
   "execution_count": 72,
   "id": "bd60635e-fc3a-41ae-b5d6-b74593548ae9",
   "metadata": {},
   "outputs": [
    {
     "data": {
      "text/plain": [
       "False"
      ]
     },
     "execution_count": 72,
     "metadata": {},
     "output_type": "execute_result"
    }
   ],
   "source": [
    "55 in t3"
   ]
  },
  {
   "cell_type": "markdown",
   "id": "d6655946-db5a-4d5b-8050-6a7b200d1c07",
   "metadata": {},
   "source": [
    "## Sets "
   ]
  },
  {
   "cell_type": "code",
   "execution_count": 1,
   "id": "98b2f029-dce0-4e22-8571-44e3a0f581e3",
   "metadata": {},
   "outputs": [
    {
     "data": {
      "text/plain": [
       "dict"
      ]
     },
     "execution_count": 1,
     "metadata": {},
     "output_type": "execute_result"
    }
   ],
   "source": [
    "s1= {}\n",
    "type (s1)"
   ]
  },
  {
   "cell_type": "code",
   "execution_count": 3,
   "id": "de1559be-edcb-49a7-a376-608b97561278",
   "metadata": {},
   "outputs": [
    {
     "data": {
      "text/plain": [
       "set"
      ]
     },
     "execution_count": 3,
     "metadata": {},
     "output_type": "execute_result"
    }
   ],
   "source": [
    "s1= {1,2,2,3,4,5,6}\n",
    "type (s1)\n",
    "#remove duplicates"
   ]
  },
  {
   "cell_type": "code",
   "execution_count": 6,
   "id": "0b62308c-dd30-47ca-b977-74b2d63a194a",
   "metadata": {},
   "outputs": [
    {
     "data": {
      "text/plain": [
       "{1, 2, 3, 4, 5, 6}"
      ]
     },
     "execution_count": 6,
     "metadata": {},
     "output_type": "execute_result"
    }
   ],
   "source": [
    "s1"
   ]
  },
  {
   "cell_type": "code",
   "execution_count": 14,
   "id": "b8f2c777-fa58-4759-9898-a896a223f517",
   "metadata": {},
   "outputs": [
    {
     "name": "stdout",
     "output_type": "stream",
     "text": [
      "1\t 2\t 3\t 4\t 5\t 6\t "
     ]
    }
   ],
   "source": [
    "for i in s1:\n",
    "            print(i, end=\"\\t \")"
   ]
  },
  {
   "cell_type": "code",
   "execution_count": 19,
   "id": "765db97d-0792-4363-992e-c89d04ebd860",
   "metadata": {},
   "outputs": [
    {
     "data": {
      "text/plain": [
       "{1, 2, 3, 4, 5, 6, 30}"
      ]
     },
     "execution_count": 19,
     "metadata": {},
     "output_type": "execute_result"
    }
   ],
   "source": [
    "s1.add(30)\n",
    "s1"
   ]
  },
  {
   "cell_type": "code",
   "execution_count": 27,
   "id": "89bfb651-2a73-4628-a4e0-35da9864bad5",
   "metadata": {},
   "outputs": [
    {
     "name": "stdout",
     "output_type": "stream",
     "text": [
      "2   {3, 4, 5, 6, 30}\n",
      "2   {2, 3, 4, 5, 6, 30}\n"
     ]
    }
   ],
   "source": [
    "a=s1.pop()\n",
    "print(a, \" \", s1)\n",
    "s1.add(a)\n",
    "print(a, \" \", s1)"
   ]
  },
  {
   "cell_type": "markdown",
   "id": "48ceb5b6-69ac-48ac-b2d9-a7718266b8f0",
   "metadata": {},
   "source": [
    "## Dictionary"
   ]
  },
  {
   "cell_type": "code",
   "execution_count": 1,
   "id": "151bcf97-fd86-48c9-944a-7c65fd731f21",
   "metadata": {},
   "outputs": [
    {
     "data": {
      "text/plain": [
       "{'name': 'Manoj', 'Age': 27}"
      ]
     },
     "execution_count": 1,
     "metadata": {},
     "output_type": "execute_result"
    }
   ],
   "source": [
    "d1= {\"name\":\"Manoj\",\"Age\":27}\n",
    "d1"
   ]
  },
  {
   "cell_type": "code",
   "execution_count": 2,
   "id": "95dfd36d-85e8-461a-bff7-db4498d52f57",
   "metadata": {},
   "outputs": [
    {
     "data": {
      "text/plain": [
       "{'name': 'manoj', 'Age': 27}"
      ]
     },
     "execution_count": 2,
     "metadata": {},
     "output_type": "execute_result"
    }
   ],
   "source": [
    "d1= {\"name\":\"Manoj\",\"Age\":27, \"name\":\"manoj\"}\n",
    "d1"
   ]
  },
  {
   "cell_type": "code",
   "execution_count": 4,
   "id": "6885c893-b928-47cd-8217-a2d541859bc7",
   "metadata": {},
   "outputs": [
    {
     "data": {
      "text/plain": [
       "{True: 'Symbol'}"
      ]
     },
     "execution_count": 4,
     "metadata": {},
     "output_type": "execute_result"
    }
   ],
   "source": [
    "d2= {True :\"Symbol\"}\n",
    "d2"
   ]
  },
  {
   "cell_type": "code",
   "execution_count": 5,
   "id": "0242ab36-7469-4b3b-82a5-532ba7d8ba9d",
   "metadata": {},
   "outputs": [
    {
     "data": {
      "text/plain": [
       "{'@': 'Symbol'}"
      ]
     },
     "execution_count": 5,
     "metadata": {},
     "output_type": "execute_result"
    }
   ],
   "source": [
    "d2= {\"@\" :\"Symbol\"}\n",
    "d2"
   ]
  },
  {
   "cell_type": "code",
   "execution_count": 9,
   "id": "823ee265-f76a-40c6-9853-1f84591598e4",
   "metadata": {},
   "outputs": [
    {
     "data": {
      "text/plain": [
       "{'Course Name': ['Data Science Master', 'C++', 'Java', 'C#'],\n",
       " 'Company Name': 'PW Skils'}"
      ]
     },
     "execution_count": 9,
     "metadata": {},
     "output_type": "execute_result"
    }
   ],
   "source": [
    "d3= {\"Course Name\":['Data Science Master','C++','Java','C#'], \"Company Name\":'PW Skils'}\n",
    "d3"
   ]
  },
  {
   "cell_type": "code",
   "execution_count": 10,
   "id": "eb673f9e-4bc8-4007-852c-c380565c8b82",
   "metadata": {},
   "outputs": [
    {
     "name": "stdout",
     "output_type": "stream",
     "text": [
      "Course Name\n",
      "Company Name\n"
     ]
    }
   ],
   "source": [
    "for i in d3:\n",
    "    print (i)"
   ]
  },
  {
   "cell_type": "code",
   "execution_count": 11,
   "id": "575b0c81-6d2c-464e-94ab-913a9dc18ea6",
   "metadata": {},
   "outputs": [
    {
     "data": {
      "text/plain": [
       "['Data Science Master', 'C++', 'Java', 'C#']"
      ]
     },
     "execution_count": 11,
     "metadata": {},
     "output_type": "execute_result"
    }
   ],
   "source": [
    "d3[\"Course Name\"]"
   ]
  },
  {
   "cell_type": "code",
   "execution_count": 12,
   "id": "0d3aa811-0b06-4547-8d0a-37453288760b",
   "metadata": {},
   "outputs": [
    {
     "data": {
      "text/plain": [
       "{'Course Name': ['Data Science Master', 'C++', 'Java', 'C#'],\n",
       " 'Company Name': 'PW Skils',\n",
       " 'Name': 'Manoj'}"
      ]
     },
     "execution_count": 12,
     "metadata": {},
     "output_type": "execute_result"
    }
   ],
   "source": [
    "d3[\"Name\"]=\"Manoj\"\n",
    "d3"
   ]
  },
  {
   "cell_type": "code",
   "execution_count": 13,
   "id": "c17747f7-9368-446e-9aee-e7f1b60da733",
   "metadata": {},
   "outputs": [
    {
     "data": {
      "text/plain": [
       "'MANOJ'"
      ]
     },
     "execution_count": 13,
     "metadata": {},
     "output_type": "execute_result"
    }
   ],
   "source": [
    "d3['Name'].upper()"
   ]
  },
  {
   "cell_type": "code",
   "execution_count": 14,
   "id": "51d82345-d9a1-45f6-a0dd-13ceced69497",
   "metadata": {},
   "outputs": [
    {
     "data": {
      "text/plain": [
       "{'Course Name': ['Data Science Master', 'C++', 'Java', 'C#'],\n",
       " 'Company Name': 'PW Skils'}"
      ]
     },
     "execution_count": 14,
     "metadata": {},
     "output_type": "execute_result"
    }
   ],
   "source": [
    "del d3['Name']\n",
    "d3"
   ]
  },
  {
   "cell_type": "code",
   "execution_count": 15,
   "id": "3ace1b46-ecca-48fc-a4ca-a173d8ebb285",
   "metadata": {},
   "outputs": [],
   "source": [
    "d1.clear()"
   ]
  },
  {
   "cell_type": "code",
   "execution_count": 16,
   "id": "1ccb3318-7fb1-429b-8eea-7c5b5bb7283c",
   "metadata": {},
   "outputs": [
    {
     "data": {
      "text/plain": [
       "{}"
      ]
     },
     "execution_count": 16,
     "metadata": {},
     "output_type": "execute_result"
    }
   ],
   "source": [
    "d1"
   ]
  },
  {
   "cell_type": "code",
   "execution_count": 17,
   "id": "d16d3250-7dbb-417f-9c49-c9525fcb2cd1",
   "metadata": {},
   "outputs": [
    {
     "data": {
      "text/plain": [
       "dict"
      ]
     },
     "execution_count": 17,
     "metadata": {},
     "output_type": "execute_result"
    }
   ],
   "source": [
    "type(d1)"
   ]
  },
  {
   "cell_type": "code",
   "execution_count": 19,
   "id": "b26e7e31-6156-4a9f-a5d9-34f00c1a1712",
   "metadata": {},
   "outputs": [
    {
     "data": {
      "text/plain": [
       "2"
      ]
     },
     "execution_count": 19,
     "metadata": {},
     "output_type": "execute_result"
    }
   ],
   "source": [
    "len(d3)"
   ]
  },
  {
   "cell_type": "code",
   "execution_count": 20,
   "id": "f99eeeb9-d68a-434a-bb0d-2441aba4fb0a",
   "metadata": {},
   "outputs": [
    {
     "data": {
      "text/plain": [
       "dict_keys(['Course Name', 'Company Name'])"
      ]
     },
     "execution_count": 20,
     "metadata": {},
     "output_type": "execute_result"
    }
   ],
   "source": [
    "d3.keys()"
   ]
  },
  {
   "cell_type": "code",
   "execution_count": 21,
   "id": "f8b4c080-71f5-426a-b45c-c139064fd1d3",
   "metadata": {},
   "outputs": [
    {
     "data": {
      "text/plain": [
       "dict_values([['Data Science Master', 'C++', 'Java', 'C#'], 'PW Skils'])"
      ]
     },
     "execution_count": 21,
     "metadata": {},
     "output_type": "execute_result"
    }
   ],
   "source": [
    "d3.values()"
   ]
  },
  {
   "cell_type": "code",
   "execution_count": 24,
   "id": "d1b6c4ca-f620-4f21-ba04-7989a7985d42",
   "metadata": {},
   "outputs": [
    {
     "data": {
      "text/plain": [
       "[['Data Science Master', 'C++', 'Java', 'C#'], 'PW Skils']"
      ]
     },
     "execution_count": 24,
     "metadata": {},
     "output_type": "execute_result"
    }
   ],
   "source": [
    "list(d3.values())"
   ]
  },
  {
   "cell_type": "code",
   "execution_count": 30,
   "id": "e91f5b65-841b-4adc-b637-8fa3eaa365cd",
   "metadata": {},
   "outputs": [
    {
     "data": {
      "text/plain": [
       "[('Course Name', ['Data Science Master', 'C++', 'Java', 'C#']),\n",
       " ('Company Name', 'PW Skils')]"
      ]
     },
     "execution_count": 30,
     "metadata": {},
     "output_type": "execute_result"
    }
   ],
   "source": [
    "list(d3.items())"
   ]
  },
  {
   "cell_type": "code",
   "execution_count": 32,
   "id": "3536560e-d5a5-4288-89e4-775dc9a246e4",
   "metadata": {},
   "outputs": [
    {
     "data": {
      "text/plain": [
       "{'Course Name': ['Data Science Master', 'C++', 'Java', 'C#'],\n",
       " 'Company Name': 'PW Skils'}"
      ]
     },
     "execution_count": 32,
     "metadata": {},
     "output_type": "execute_result"
    }
   ],
   "source": [
    "d4=d3\n",
    "d4"
   ]
  },
  {
   "cell_type": "code",
   "execution_count": 34,
   "id": "4ab5c7a8-3a1b-4111-80c0-3cb69998b2bf",
   "metadata": {},
   "outputs": [
    {
     "data": {
      "text/plain": [
       "{'Course Name': ['Data Science Master', 'C++', 'Java', 'C#'],\n",
       " 'Company Name': 'PW Skils'}"
      ]
     },
     "execution_count": 34,
     "metadata": {},
     "output_type": "execute_result"
    }
   ],
   "source": [
    "d5=d3.copy()\n",
    "d5"
   ]
  },
  {
   "cell_type": "code",
   "execution_count": 4,
   "id": "5db8e381-c5d3-48df-9045-1fedc1c0fc01",
   "metadata": {},
   "outputs": [
    {
     "ename": "NameError",
     "evalue": "name 'd3' is not defined",
     "output_type": "error",
     "traceback": [
      "\u001b[0;31m---------------------------------------------------------------------------\u001b[0m",
      "\u001b[0;31mNameError\u001b[0m                                 Traceback (most recent call last)",
      "Cell \u001b[0;32mIn[4], line 1\u001b[0m\n\u001b[0;32m----> 1\u001b[0m \u001b[43md3\u001b[49m\u001b[38;5;241m.\u001b[39mupdate(d1)\n\u001b[1;32m      2\u001b[0m d3\n",
      "\u001b[0;31mNameError\u001b[0m: name 'd3' is not defined"
     ]
    }
   ],
   "source": [
    "d3.update(d1)\n",
    "d3"
   ]
  },
  {
   "cell_type": "code",
   "execution_count": 10,
   "id": "1d3f3d59-4466-49b6-8394-deb4ed6c1698",
   "metadata": {},
   "outputs": [
    {
     "ename": "NameError",
     "evalue": "name 'd3' is not defined",
     "output_type": "error",
     "traceback": [
      "\u001b[0;31m---------------------------------------------------------------------------\u001b[0m",
      "\u001b[0;31mNameError\u001b[0m                                 Traceback (most recent call last)",
      "Cell \u001b[0;32mIn[10], line 1\u001b[0m\n\u001b[0;32m----> 1\u001b[0m \u001b[43md3\u001b[49m\u001b[38;5;241m.\u001b[39mget(\u001b[38;5;124m\"\u001b[39m\u001b[38;5;124mCompany Name\u001b[39m\u001b[38;5;124m\"\u001b[39m)\n",
      "\u001b[0;31mNameError\u001b[0m: name 'd3' is not defined"
     ]
    }
   ],
   "source": [
    "d3.get(\"Company Name\")"
   ]
  },
  {
   "cell_type": "code",
   "execution_count": 11,
   "id": "2ae78e7b-9535-459a-ba57-0af883bc7c4b",
   "metadata": {},
   "outputs": [
    {
     "data": {
      "text/plain": [
       "{1: 1, 2: 4, 3: 9, 4: 16, 5: 25, 6: 36, 7: 49, 8: 64, 9: 81, 10: 100}"
      ]
     },
     "execution_count": 11,
     "metadata": {},
     "output_type": "execute_result"
    }
   ],
   "source": [
    "{i : i**2 for i in range(1,11)}"
   ]
  },
  {
   "cell_type": "code",
   "execution_count": 12,
   "id": "8c830a7a-66fc-4b2e-b87b-7e2228a61705",
   "metadata": {},
   "outputs": [
    {
     "name": "stdout",
     "output_type": "stream",
     "text": [
      "The Zen of Python, by Tim Peters\n",
      "\n",
      "Beautiful is better than ugly.\n",
      "Explicit is better than implicit.\n",
      "Simple is better than complex.\n",
      "Complex is better than complicated.\n",
      "Flat is better than nested.\n",
      "Sparse is better than dense.\n",
      "Readability counts.\n",
      "Special cases aren't special enough to break the rules.\n",
      "Although practicality beats purity.\n",
      "Errors should never pass silently.\n",
      "Unless explicitly silenced.\n",
      "In the face of ambiguity, refuse the temptation to guess.\n",
      "There should be one-- and preferably only one --obvious way to do it.\n",
      "Although that way may not be obvious at first unless you're Dutch.\n",
      "Now is better than never.\n",
      "Although never is often better than *right* now.\n",
      "If the implementation is hard to explain, it's a bad idea.\n",
      "If the implementation is easy to explain, it may be a good idea.\n",
      "Namespaces are one honking great idea -- let's do more of those!\n"
     ]
    }
   ],
   "source": [
    "import this"
   ]
  },
  {
   "cell_type": "code",
   "execution_count": 13,
   "id": "b7daa1fa-246b-4db8-b14a-bada60638865",
   "metadata": {},
   "outputs": [
    {
     "name": "stdout",
     "output_type": "stream",
     "text": [
      "400\n",
      "(200, 300, 400)\n"
     ]
    }
   ],
   "source": [
    "atuple = (100, 200, 300, 400, 500)\n",
    "\n",
    "print(atuple[-2])\n",
    "\n",
    "print(atuple[-4:-1])"
   ]
  },
  {
   "cell_type": "code",
   "execution_count": 14,
   "id": "7359d029-1c24-43a7-b4ce-ac89aa2a1a74",
   "metadata": {},
   "outputs": [
    {
     "name": "stdout",
     "output_type": "stream",
     "text": [
      "<class 'str'>\n"
     ]
    }
   ],
   "source": [
    "atuple = (\"Orange\")\n",
    "\n",
    "print(type(atuple))"
   ]
  },
  {
   "cell_type": "code",
   "execution_count": 15,
   "id": "4819e161-f1a2-43fa-b4ff-59e9ad53b614",
   "metadata": {},
   "outputs": [
    {
     "name": "stdout",
     "output_type": "stream",
     "text": [
      "(100, 100)\n"
     ]
    }
   ],
   "source": [
    "atuple = (100,)\n",
    "\n",
    "print(atuple * 2)"
   ]
  },
  {
   "cell_type": "code",
   "execution_count": 16,
   "id": "f7bacdee-a1ec-452f-869d-c007ecddecfb",
   "metadata": {},
   "outputs": [
    {
     "name": "stdout",
     "output_type": "stream",
     "text": [
      "None\n"
     ]
    }
   ],
   "source": [
    "dict1 = {\"name\": \"Mike\", \"salary\": 8000}\n",
    "\n",
    "temp = dict1.get(\"age\")\n",
    "\n",
    "print(temp)"
   ]
  },
  {
   "cell_type": "code",
   "execution_count": 17,
   "id": "a4cd44b1-c82e-464b-8670-db8324fe4721",
   "metadata": {},
   "outputs": [
    {
     "name": "stdout",
     "output_type": "stream",
     "text": [
      "True\n"
     ]
    }
   ],
   "source": [
    "dict1 = {\"key1\":1, \"key2\":2}\n",
    "\n",
    "dict2 = {\"key2\":2, \"key1\":1}\n",
    "\n",
    "print(dict1 == dict2)"
   ]
  },
  {
   "cell_type": "code",
   "execution_count": 18,
   "id": "cd068e61-7264-4e7f-8c13-7908fa913878",
   "metadata": {},
   "outputs": [
    {
     "name": "stdout",
     "output_type": "stream",
     "text": [
      "{'Blue', 'Pink'}\n"
     ]
    }
   ],
   "source": [
    "set1 = {\"Yellow\", \"Orange\", \"Black\"}\n",
    "\n",
    "set2 = {\"Orange\", \"Blue\", \"Pink\"}\n",
    "\n",
    "set3 = set2.difference(set1)\n",
    "\n",
    "print(set3)"
   ]
  },
  {
   "cell_type": "code",
   "execution_count": null,
   "id": "3632b44a-5474-4007-87d7-03a54f5187d8",
   "metadata": {},
   "outputs": [],
   "source": []
  }
 ],
 "metadata": {
  "kernelspec": {
   "display_name": "Python 3 (ipykernel)",
   "language": "python",
   "name": "python3"
  },
  "language_info": {
   "codemirror_mode": {
    "name": "ipython",
    "version": 3
   },
   "file_extension": ".py",
   "mimetype": "text/x-python",
   "name": "python",
   "nbconvert_exporter": "python",
   "pygments_lexer": "ipython3",
   "version": "3.10.8"
  }
 },
 "nbformat": 4,
 "nbformat_minor": 5
}
