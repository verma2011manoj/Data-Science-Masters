{
 "cells": [
  {
   "cell_type": "markdown",
   "id": "91e67b34-a0fa-4a3e-ab32-3bf9cd08fd4d",
   "metadata": {},
   "source": [
    "## Q1. Explain Class and Object with respect to Object-Oriented Programming. Give a suitable example."
   ]
  },
  {
   "cell_type": "markdown",
   "id": "7b8beea4-c510-45c6-8fce-42d31aeafe51",
   "metadata": {},
   "source": [
    "Object-Oriented Programming (OOP) is a programming paradigm that emphasizes the use of objects and classes to represent and manipulate data.\n",
    "\n",
    "A class is a blueprint or a template that defines the characteristics and behaviors of an object. It specifies the attributes (data members) and methods (functions) that objects of that class will have. For example, a class can be thought of as a blueprint for a car. The blueprint would specify the number of wheels, the color, the engine, etc. of the car.\n",
    "\n",
    "An object is an instance of a class. It is created from the blueprint defined by the class and contains its own unique set of data members and methods.\n",
    "\n",
    "Here's an example to illustrate the concept of class and object in Python:\n"
   ]
  },
  {
   "cell_type": "code",
   "execution_count": 1,
   "id": "7577dfad-4b95-463d-9efe-f31dae1c0412",
   "metadata": {},
   "outputs": [],
   "source": [
    "class student:\n",
    "    \n",
    "    def __init__ (self, phone_number, email_id, student_id):\n",
    "        self.phone_number=phone_number\n",
    "        self.email_id=email_id\n",
    "        self.student_id=student_id\n",
    "        \n",
    "    def student_details(self):\n",
    "        return self.phone_number, self.email_id, self.student_id"
   ]
  },
  {
   "cell_type": "code",
   "execution_count": 3,
   "id": "dd19cc9c-3f78-4786-a196-c76a2b73ec97",
   "metadata": {},
   "outputs": [
    {
     "data": {
      "text/plain": [
       "(878475847, 'rohan@gmail.com', 121)"
      ]
     },
     "execution_count": 3,
     "metadata": {},
     "output_type": "execute_result"
    }
   ],
   "source": [
    "rohan = student(878475847,\"rohan@gmail.com\", 121)\n",
    "rohan.student_details()"
   ]
  },
  {
   "cell_type": "markdown",
   "id": "8d66cef6-338c-453e-8aca-298b75f05857",
   "metadata": {},
   "source": [
    "## Q2. Name the four pillars of OOPs."
   ]
  },
  {
   "cell_type": "markdown",
   "id": "9632dff6-8d09-4331-8aaa-815713711052",
   "metadata": {},
   "source": [
    "Four Pillars of OOPs:- \n",
    "1. Encapsulation: Encapsulation is the process of wrapping data and methods into a single unit, called a class. This allows for better data protection and organization, as the class acts as a shield around the data it contains, preventing direct access by external code."
   ]
  },
  {
   "cell_type": "markdown",
   "id": "f3fb7024-5ec2-4222-a3b6-5a1c4a292289",
   "metadata": {},
   "source": [
    "2. Inheritance: Inheritance is the ability of a class to inherit properties and methods from another class, called the superclass. This allows for code reuse and simplifies the coding process by eliminating the need to rewrite common code."
   ]
  },
  {
   "cell_type": "markdown",
   "id": "64c097ac-890a-4ebe-8953-b676299e846b",
   "metadata": {},
   "source": [
    "3. Polymorphism: Polymorphism allows objects of different classes to be treated as if they were of the same class. This is achieved through method overloading and method overriding, which allow methods to have different implementations depending on the object they are called on."
   ]
  },
  {
   "cell_type": "markdown",
   "id": "c9f39f57-3be8-4bf3-9257-992c71b577f4",
   "metadata": {},
   "source": [
    "4. Abstraction: Abstraction is the process of simplifying complex systems by breaking them down into smaller, more manageable components. In OOPs, this is achieved by creating abstract classes, which define a set of methods that can be implemented differently by different subclasses. Abstraction allows for code reusability and modularity, as it allows for the creation of generic components that can be reused in different contexts."
   ]
  },
  {
   "cell_type": "markdown",
   "id": "117013ff-a3a4-452e-8517-ceb645d96383",
   "metadata": {},
   "source": [
    "## Q3. Explain why the __init__() function is used. Give a suitable example."
   ]
  },
  {
   "cell_type": "markdown",
   "id": "93777def-1562-409c-848f-7880b573ffe7",
   "metadata": {},
   "source": [
    "The __init__() function is a special method in Python classes that is automatically called when an object is created from a class. It is used to initialize the object's properties or attributes with default or user-specified values.\n",
    "example - "
   ]
  },
  {
   "cell_type": "code",
   "execution_count": 4,
   "id": "e80a6485-38c3-404f-aef6-6541eb4683cc",
   "metadata": {},
   "outputs": [
    {
     "name": "stdout",
     "output_type": "stream",
     "text": [
      "Name: John, Age: 25\n"
     ]
    }
   ],
   "source": [
    "class Person:\n",
    "    def __init__(self, name, age):\n",
    "        self.name = name\n",
    "        self.age = age\n",
    "\n",
    "    def display(self):\n",
    "        print(f\"Name: {self.name}, Age: {self.age}\")\n",
    "\n",
    "person1 = Person(\"John\", 25)\n",
    "person1.display()\n"
   ]
  },
  {
   "cell_type": "markdown",
   "id": "4e07a8b4-feee-4340-84a5-3b8c81e15afb",
   "metadata": {},
   "source": [
    "## Q4. Why self is used in OOPs?"
   ]
  },
  {
   "cell_type": "markdown",
   "id": "4ac9bf33-1d8c-4bca-91fc-6447612e99f9",
   "metadata": {},
   "source": [
    "self is a special parameter used in OOP to refer instance of the class. It is used to access the attributes and methods of an object within the class and is used as the first parameter of instance methods"
   ]
  },
  {
   "cell_type": "markdown",
   "id": "b1daca7e-9331-4de5-b78f-c951eeaa6eec",
   "metadata": {},
   "source": [
    "## Q5. What is inheritance? Give an example for each type of inheritance."
   ]
  },
  {
   "cell_type": "markdown",
   "id": "590cbf94-2608-42b5-b98d-d15448507915",
   "metadata": {},
   "source": [
    "Inheritance is the property by which child class inherits the property of parents class with the help of access specifiers and special keywords."
   ]
  },
  {
   "cell_type": "markdown",
   "id": "3080a931-d1cc-4d91-89c8-5454950c09f4",
   "metadata": {},
   "source": [
    "1. Single Inheritance: Single inheritance involves creating a new class that inherits the properties of a single parent class. The new class can add new properties or methods, or override the existing ones. Here's an example:"
   ]
  },
  {
   "cell_type": "code",
   "execution_count": 6,
   "id": "0b500340-64dc-4f22-8d26-9277e4a4991a",
   "metadata": {},
   "outputs": [
    {
     "name": "stdout",
     "output_type": "stream",
     "text": [
      "Rex\n",
      "Dog barks!\n"
     ]
    }
   ],
   "source": [
    "class Animal:\n",
    "    def __init__(self, name):\n",
    "        self.name = name\n",
    "\n",
    "    def speak(self):\n",
    "        print(\"Animal speaks!\")\n",
    "\n",
    "class Dog(Animal):\n",
    "    def speak(self):\n",
    "        print(\"Dog barks!\")\n",
    "\n",
    "dog1 = Dog(\"Rex\")\n",
    "print(dog1.name)\n",
    "dog1.speak()\n"
   ]
  },
  {
   "cell_type": "markdown",
   "id": "132ad7be-84e4-4a47-afbb-aea318a89f5f",
   "metadata": {},
   "source": [
    "2. Multiple Inheritance: Multiple inheritance involves creating a new class that inherits the properties of multiple parent classes. The new class can add new properties or methods, or override the existing ones. Here's an example:"
   ]
  },
  {
   "cell_type": "code",
   "execution_count": 7,
   "id": "553c9a97-cda0-4eb5-be47-a516ee31cc10",
   "metadata": {},
   "outputs": [
    {
     "name": "stdout",
     "output_type": "stream",
     "text": [
      "Animal speaks!\n",
      "Feeding milk...\n"
     ]
    }
   ],
   "source": [
    "class Animal:\n",
    "    def speak(self):\n",
    "        print(\"Animal speaks!\")\n",
    "\n",
    "class Mammal:\n",
    "    def feed_milk(self):\n",
    "        print(\"Feeding milk...\")\n",
    "\n",
    "class Platypus(Animal, Mammal):\n",
    "    pass\n",
    "\n",
    "platypus1 = Platypus()\n",
    "platypus1.speak()\n",
    "platypus1.feed_milk()\n"
   ]
  },
  {
   "cell_type": "markdown",
   "id": "15df89f2-d828-44c7-881c-99c14702567e",
   "metadata": {},
   "source": [
    "3. Hierarchical Inheritance: Hierarchical inheritance involves creating a new class that inherits the properties of a single parent class, and has multiple child classes that inherit from it. Here's an example:"
   ]
  },
  {
   "cell_type": "code",
   "execution_count": 8,
   "id": "634cacc2-88aa-43d0-b4f2-fee56166580a",
   "metadata": {},
   "outputs": [
    {
     "name": "stdout",
     "output_type": "stream",
     "text": [
      "Animal speaks!\n",
      "Cat meows!\n",
      "Animal speaks!\n",
      "Lion roars!\n"
     ]
    }
   ],
   "source": [
    "class Animal:\n",
    "    def speak(self):\n",
    "        print(\"Animal speaks!\")\n",
    "\n",
    "class Cat(Animal):\n",
    "    def meow(self):\n",
    "        print(\"Cat meows!\")\n",
    "\n",
    "class Lion(Animal):\n",
    "    def roar(self):\n",
    "        print(\"Lion roars!\")\n",
    "\n",
    "cat1 = Cat()\n",
    "cat1.speak()\n",
    "cat1.meow()\n",
    "\n",
    "lion1 = Lion()\n",
    "lion1.speak()\n",
    "lion1.roar()\n"
   ]
  },
  {
   "cell_type": "markdown",
   "id": "96633815-ccfb-4327-90c5-9cbc9f37639d",
   "metadata": {},
   "source": [
    "4. Multilevel inheritance is a type of inheritance in which a subclass inherits properties and methods from a superclass, which in turn inherits properties and methods from another superclass. Here's an example to demonstrate multilevel inheritance:"
   ]
  },
  {
   "cell_type": "code",
   "execution_count": 9,
   "id": "f894c5fc-ba99-4030-929f-ee1a157e52ce",
   "metadata": {},
   "outputs": [
    {
     "name": "stdout",
     "output_type": "stream",
     "text": [
      "Eating...\n",
      "Walking...\n",
      "Barking...\n"
     ]
    }
   ],
   "source": [
    "class Animal:\n",
    "    def eat(self):\n",
    "        print(\"Eating...\")\n",
    "\n",
    "class Mammal(Animal):\n",
    "    def walk(self):\n",
    "        print(\"Walking...\")\n",
    "\n",
    "class Dog(Mammal):\n",
    "    def bark(self):\n",
    "        print(\"Barking...\")\n",
    "\n",
    "dog1 = Dog()\n",
    "dog1.eat()   \n",
    "dog1.walk()  \n",
    "dog1.bark()  \n"
   ]
  },
  {
   "cell_type": "code",
   "execution_count": null,
   "id": "822d6bfb-871c-4c60-a725-f7115abba5a6",
   "metadata": {},
   "outputs": [],
   "source": []
  }
 ],
 "metadata": {
  "kernelspec": {
   "display_name": "Python 3 (ipykernel)",
   "language": "python",
   "name": "python3"
  },
  "language_info": {
   "codemirror_mode": {
    "name": "ipython",
    "version": 3
   },
   "file_extension": ".py",
   "mimetype": "text/x-python",
   "name": "python",
   "nbconvert_exporter": "python",
   "pygments_lexer": "ipython3",
   "version": "3.10.8"
  }
 },
 "nbformat": 4,
 "nbformat_minor": 5
}
