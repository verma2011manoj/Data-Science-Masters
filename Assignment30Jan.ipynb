{
 "cells": [
  {
   "cell_type": "markdown",
   "id": "33547d91-2b97-4bc6-b0a5-85d7265565e5",
   "metadata": {},
   "source": [
    "# Assignment 2 "
   ]
  },
  {
   "cell_type": "markdown",
   "id": "9aa22722-d113-42c2-8888-b3a72c5093ef",
   "metadata": {},
   "source": [
    "### Ques 1. Write a program to accept percentage from the user and display the grade according to the following criteria"
   ]
  },
  {
   "cell_type": "code",
   "execution_count": 6,
   "id": "aee93f64-e328-4452-808d-727ec7648ed7",
   "metadata": {
    "collapsed": true,
    "jupyter": {
     "outputs_hidden": true
    },
    "tags": []
   },
   "outputs": [
    {
     "name": "stdin",
     "output_type": "stream",
     "text": [
      "Enter your percentage : 99\n"
     ]
    },
    {
     "name": "stdout",
     "output_type": "stream",
     "text": [
      "Hey, Your Grade is A\n"
     ]
    }
   ],
   "source": [
    "#Solution 1. \n",
    "#percentage-Grade program\n",
    "percent= int(input(\"Enter your percentage :\"))\n",
    "if percent>90:\n",
    "    print(\"Hey, Your Grade is A\")\n",
    "elif percent<=90 and percent>80:\n",
    "    print(\"Hey, Your Grade is B\")\n",
    "elif percent<=80 and percent>=60:\n",
    "    print(\"Hey, Your Grade is C\")\n",
    "else:\n",
    "    print(\"Hey, Your Grade is D\")"
   ]
  },
  {
   "cell_type": "markdown",
   "id": "2fe21dc1-2643-405e-aa8d-edc9efa78d63",
   "metadata": {},
   "source": [
    "### Ques 2. Write a program to accept the cost price of a bike and display the road tax to be paid according to he following criteria:"
   ]
  },
  {
   "cell_type": "code",
   "execution_count": 10,
   "id": "416e6bd4-3f98-4336-804c-0190d8155f2a",
   "metadata": {
    "collapsed": true,
    "jupyter": {
     "outputs_hidden": true
    },
    "tags": []
   },
   "outputs": [
    {
     "name": "stdin",
     "output_type": "stream",
     "text": [
      "Enter the cost of your Bike: 25000\n"
     ]
    },
    {
     "name": "stdout",
     "output_type": "stream",
     "text": [
      "You have to pay 1250.0 on your bike\n"
     ]
    }
   ],
   "source": [
    "#Solution 2. \n",
    "#Road Tax program\n",
    "cost= int(input(\"Enter the cost of your Bike:\"))\n",
    "if cost>100000:\n",
    "    Tax= cost*.15\n",
    "    print(f\"You have to pay {Tax} on your bike\")\n",
    "elif cost<=100000 and cost>50000:\n",
    "    Tax= cost*.1\n",
    "    print(f\"You have to pay {Tax} on your bike\")\n",
    "else:\n",
    "    Tax= cost*.05\n",
    "    print(f\"You have to pay {Tax} on your bike\")"
   ]
  },
  {
   "cell_type": "markdown",
   "id": "e8045e78-072a-4b76-86e4-98deffff64a6",
   "metadata": {},
   "source": [
    "### Ques 3. Accept any city from the user and display monuments of that city."
   ]
  },
  {
   "cell_type": "code",
   "execution_count": 18,
   "id": "438f1fd6-4be8-43b3-b450-cd53994bfded",
   "metadata": {
    "collapsed": true,
    "jupyter": {
     "outputs_hidden": true
    },
    "tags": []
   },
   "outputs": [
    {
     "name": "stdin",
     "output_type": "stream",
     "text": [
      "Please enter your city from Delhi, Agra or Jaipur and we will show the monuments of your city : djfkdjk\n"
     ]
    },
    {
     "name": "stdout",
     "output_type": "stream",
     "text": [
      "Please enter city from the given options only\n"
     ]
    }
   ],
   "source": [
    "#Solutin 3. City Monument program\n",
    "city = input(\"Please enter your city from Delhi, Agra or Jaipur and we will show the monuments of your city :\")\n",
    "if city==\"Delhi\" or city==\"delhi\":\n",
    "    print(\"Monument in your city is : Red Fort\")\n",
    "elif city==\"Agra\" or city==\"agra\":\n",
    "    print(\"Monument in your city is : Taj Mahal\")\n",
    "elif city==\"Jaipur\" or city==\"jaipur\":\n",
    "    print(\"Monument in your city is : Jal Mahal\")\n",
    "else: \n",
    "    print(\"Please enter city from the given options only\")"
   ]
  },
  {
   "cell_type": "markdown",
   "id": "76336d2e-128a-44ab-8afa-76f4c211cf7c",
   "metadata": {},
   "source": [
    "### Ques 4. Check how many times a given number can be  divided by 3 before it is less than or equal to 10."
   ]
  },
  {
   "cell_type": "code",
   "execution_count": 17,
   "id": "c78a3aea-05e1-4465-99be-5faf147758a0",
   "metadata": {
    "collapsed": true,
    "jupyter": {
     "outputs_hidden": true
    },
    "tags": []
   },
   "outputs": [
    {
     "name": "stdout",
     "output_type": "stream",
     "text": [
      "Enter a number and we will show you the number of times it can be divided by 3 \n",
      "before it is less than or equal to 10 :\n"
     ]
    },
    {
     "name": "stdin",
     "output_type": "stream",
     "text": [
      "None 17\n"
     ]
    },
    {
     "name": "stdout",
     "output_type": "stream",
     "text": [
      "17 can be divided 5 times by 3 before 10.\n"
     ]
    }
   ],
   "source": [
    "#solution 4.\n",
    "num= int(input(print(\"Enter a number and we will show you the number of times it can be divided by 3 \\nbefore it is less than or equal to 10 :\")))\n",
    "i=1\n",
    "while i<=10 and 3*i<=num:\n",
    "    i+=1\n",
    "print(f\"{num} can be divided {i-1} times by 3 before 10.\")"
   ]
  },
  {
   "cell_type": "markdown",
   "id": "259b9ba5-60c5-4830-8bfd-b72838fd7cb4",
   "metadata": {},
   "source": [
    "# Ques 5. Why and when to use while loop in python give a detailed description with example "
   ]
  },
  {
   "cell_type": "code",
   "execution_count": null,
   "id": "74a09d36-2063-42a6-9be1-4b1219939e7d",
   "metadata": {},
   "outputs": [],
   "source": [
    "#solution 5.\n",
    "A while loop in Python is used to repeatedly execute a block of code as long as a certain condition is met. The basic syntax is as follows:\n",
    "    while condition:\n",
    "    # code to be executed\n",
    "Here, condition is an expression that is evaluated as either True or False. If the condition is True, the code inside the loop will be executed, \n",
    "and the condition will be evaluated again. This process continues until the condition becomes False, at which point the loop terminates and the \n",
    "program continues with the code following the loop.\n",
    "\n",
    "For example, consider the following code, which uses a while loop to print the Table of 5:\n",
    "    i = 1\n",
    "while i <= 10:\n",
    "    print(5*i)\n",
    "    i += 1\n",
    "It's important to make sure that the condition in a while loop will eventually become False, or the loop will run forever, resulting in an infinite loop.\n",
    "This is often referred to as an \"infinite loop\" error."
   ]
  },
  {
   "cell_type": "markdown",
   "id": "7f7657c1-0dea-44c9-8f0a-71c1b3d88ca6",
   "metadata": {},
   "source": [
    "# Ques 6. Use nested while loop to print 3 different pattern"
   ]
  },
  {
   "cell_type": "code",
   "execution_count": 28,
   "id": "e0397d23-657c-43e6-9681-9934601a2e5e",
   "metadata": {
    "tags": []
   },
   "outputs": [
    {
     "name": "stdout",
     "output_type": "stream",
     "text": [
      "pattern 1 - Right angle triangle \n",
      "*\n",
      "**\n",
      "***\n",
      "****\n",
      "*****\n",
      "******\n",
      "*******\n",
      "********\n",
      "*********\n",
      "**********\n",
      "\n",
      "pattern 2 - Reverse Right angle triangle \n",
      "**********\n",
      "*********\n",
      "********\n",
      "*******\n",
      "******\n",
      "*****\n",
      "****\n",
      "***\n",
      "**\n",
      "\n",
      " pattern  - Acute angle triangle \n",
      "*\n",
      "**\n",
      "***\n",
      "****\n",
      "*****\n",
      "******\n",
      "*******\n",
      "********\n",
      "*********\n",
      "**********\n",
      "**********\n",
      "*********\n",
      "********\n",
      "*******\n",
      "******\n",
      "*****\n",
      "****\n",
      "***\n",
      "**\n"
     ]
    }
   ],
   "source": [
    "#solution 6.\n",
    "print(\"pattern 1 - Right angle triangle \")\n",
    "i=1\n",
    "while i<=10:\n",
    "        print(i*'*')\n",
    "        i+=1\n",
    "print(\"\\npattern 2 - Reverse Right angle triangle \")\n",
    "k=10\n",
    "while k>1:\n",
    "    print(k*'*')\n",
    "    k-=1\n",
    "\n",
    "print(\"\\n pattern  - Acute angle triangle \")\n",
    "i=1\n",
    "while i<=10:\n",
    "        print(i*'*')\n",
    "        i+=1\n",
    "k=10\n",
    "while k>1:\n",
    "    print(k*'*')\n",
    "    k-=1"
   ]
  },
  {
   "cell_type": "markdown",
   "id": "c7a75c0e-0a2a-43e3-9dac-d759f8758637",
   "metadata": {},
   "source": [
    "# Ques 7 . Reverse a while loop to display numbers from 10 to 1"
   ]
  },
  {
   "cell_type": "code",
   "execution_count": 29,
   "id": "0d7541c6-ec48-4d3e-ac04-f7410142a3e3",
   "metadata": {},
   "outputs": [
    {
     "name": "stdout",
     "output_type": "stream",
     "text": [
      "10\n",
      "9\n",
      "8\n",
      "7\n",
      "6\n",
      "5\n",
      "4\n",
      "3\n",
      "2\n",
      "1\n"
     ]
    }
   ],
   "source": [
    "# Solution 7 . \n",
    "count = 10\n",
    "while count >= 1:\n",
    "    print(count)\n",
    "    count = count - 1"
   ]
  },
  {
   "cell_type": "markdown",
   "id": "2ffca6b3-3dd1-4ff0-8a95-55eaf643fe53",
   "metadata": {},
   "source": [
    "# Ques 8 . Reverse a while loop to display numbers from 10 to 1"
   ]
  },
  {
   "cell_type": "code",
   "execution_count": 29,
   "id": "3a0914da-c47f-4de9-81ef-8bf6fb7f1787",
   "metadata": {},
   "outputs": [
    {
     "name": "stdout",
     "output_type": "stream",
     "text": [
      "10\n",
      "9\n",
      "8\n",
      "7\n",
      "6\n",
      "5\n",
      "4\n",
      "3\n",
      "2\n",
      "1\n"
     ]
    }
   ],
   "source": [
    "# Solution 7 . \n",
    "count = 10\n",
    "while count >= 1:\n",
    "    print(count)\n",
    "    count = count - 1"
   ]
  },
  {
   "cell_type": "code",
   "execution_count": null,
   "id": "9b473cfc-a84f-4971-9ca6-7677da13700d",
   "metadata": {},
   "outputs": [],
   "source": []
  },
  {
   "cell_type": "code",
   "execution_count": null,
   "id": "3fec11a5-17c9-447b-b38d-b5ac96bea8b7",
   "metadata": {},
   "outputs": [],
   "source": []
  },
  {
   "cell_type": "code",
   "execution_count": null,
   "id": "c445e2b6-8945-4505-9868-fe764fb89fbe",
   "metadata": {},
   "outputs": [],
   "source": []
  },
  {
   "cell_type": "code",
   "execution_count": null,
   "id": "2dae8bfc-ae58-47c6-853e-d78a4a6f2cdb",
   "metadata": {},
   "outputs": [],
   "source": []
  },
  {
   "cell_type": "code",
   "execution_count": null,
   "id": "59e4753d-1f10-49ef-8185-0a19de049ebb",
   "metadata": {},
   "outputs": [],
   "source": []
  },
  {
   "cell_type": "code",
   "execution_count": null,
   "id": "102ceb9d-e44d-4ac5-b0e9-3670ea7a7df9",
   "metadata": {},
   "outputs": [],
   "source": []
  },
  {
   "cell_type": "code",
   "execution_count": null,
   "id": "8aaf5d6b-dd96-46cd-ab8f-2f762b274bc1",
   "metadata": {},
   "outputs": [],
   "source": []
  }
 ],
 "metadata": {
  "kernelspec": {
   "display_name": "Python 3 (ipykernel)",
   "language": "python",
   "name": "python3"
  },
  "language_info": {
   "codemirror_mode": {
    "name": "ipython",
    "version": 3
   },
   "file_extension": ".py",
   "mimetype": "text/x-python",
   "name": "python",
   "nbconvert_exporter": "python",
   "pygments_lexer": "ipython3",
   "version": "3.10.8"
  }
 },
 "nbformat": 4,
 "nbformat_minor": 5
}
