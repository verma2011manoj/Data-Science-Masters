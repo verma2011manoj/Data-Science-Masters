{
 "cells": [
  {
   "cell_type": "code",
   "execution_count": 2,
   "id": "de0faefd-2a6e-47ef-b600-8e5ad149856b",
   "metadata": {},
   "outputs": [],
   "source": [
    "n,p=3,2\n",
    "def test(n,p):\n",
    "    return n**p"
   ]
  },
  {
   "cell_type": "code",
   "execution_count": 3,
   "id": "43e86334-faf6-4f60-badd-e39d36b3a9c2",
   "metadata": {},
   "outputs": [
    {
     "data": {
      "text/plain": [
       "16"
      ]
     },
     "execution_count": 3,
     "metadata": {},
     "output_type": "execute_result"
    }
   ],
   "source": [
    "test(4,2)"
   ]
  },
  {
   "cell_type": "code",
   "execution_count": 5,
   "id": "f0ed5db0-5ea3-41b8-ab07-97800e178cb6",
   "metadata": {},
   "outputs": [],
   "source": [
    "a=lambda n,p:n**p"
   ]
  },
  {
   "cell_type": "code",
   "execution_count": 6,
   "id": "1f961a0d-01f5-49af-85ba-cb76572767fa",
   "metadata": {},
   "outputs": [
    {
     "data": {
      "text/plain": [
       "64"
      ]
     },
     "execution_count": 6,
     "metadata": {},
     "output_type": "execute_result"
    }
   ],
   "source": [
    "a(4,3)"
   ]
  },
  {
   "cell_type": "code",
   "execution_count": 7,
   "id": "38dbbf6a-81ff-460e-9df3-c87e14fc254a",
   "metadata": {},
   "outputs": [],
   "source": [
    "add= lambda x,y:x+y"
   ]
  },
  {
   "cell_type": "code",
   "execution_count": 8,
   "id": "cc0a3738-85f4-4dad-9395-836c63975100",
   "metadata": {},
   "outputs": [
    {
     "data": {
      "text/plain": [
       "37777"
      ]
     },
     "execution_count": 8,
     "metadata": {},
     "output_type": "execute_result"
    }
   ],
   "source": [
    "add(34343,3434)"
   ]
  },
  {
   "cell_type": "code",
   "execution_count": 10,
   "id": "5b277f44-f22c-426f-82c0-b6be1a25d3d1",
   "metadata": {},
   "outputs": [],
   "source": [
    "#celcius to fehrenheit\n",
    "c_to_f= lambda c: (9/5)*c+32"
   ]
  },
  {
   "cell_type": "code",
   "execution_count": 11,
   "id": "9af7d3d5-a431-4286-b1a6-1aa197ea68f0",
   "metadata": {},
   "outputs": [
    {
     "data": {
      "text/plain": [
       "89.6"
      ]
     },
     "execution_count": 11,
     "metadata": {},
     "output_type": "execute_result"
    }
   ],
   "source": [
    "c_to_f(32)"
   ]
  },
  {
   "cell_type": "code",
   "execution_count": 12,
   "id": "4f775a28-c7c9-4212-bbc9-b7d5e8ba3246",
   "metadata": {},
   "outputs": [],
   "source": [
    "max_two=lambda x,y:x if x>y else y"
   ]
  },
  {
   "cell_type": "code",
   "execution_count": 13,
   "id": "2626c760-4c01-43ba-b6c9-32eeaf4038e6",
   "metadata": {},
   "outputs": [
    {
     "data": {
      "text/plain": [
       "3232"
      ]
     },
     "execution_count": 13,
     "metadata": {},
     "output_type": "execute_result"
    }
   ],
   "source": [
    "max_two(3232,343)"
   ]
  },
  {
   "cell_type": "code",
   "execution_count": 15,
   "id": "cd31c95d-dbeb-4f55-a40d-a4f58a046841",
   "metadata": {},
   "outputs": [
    {
     "data": {
      "text/plain": [
       "10"
      ]
     },
     "execution_count": 15,
     "metadata": {},
     "output_type": "execute_result"
    }
   ],
   "source": [
    "s=\"pw skills \"\n",
    "len(s)"
   ]
  },
  {
   "cell_type": "code",
   "execution_count": 18,
   "id": "c9237d8f-9bcb-4d7a-8205-39c437458908",
   "metadata": {},
   "outputs": [],
   "source": [
    "len_str = lambda s : len(s)"
   ]
  },
  {
   "cell_type": "code",
   "execution_count": 17,
   "id": "e7f9c3ed-68a8-445b-8748-856ba0d331dd",
   "metadata": {},
   "outputs": [
    {
     "data": {
      "text/plain": [
       "10"
      ]
     },
     "execution_count": 17,
     "metadata": {},
     "output_type": "execute_result"
    }
   ],
   "source": [
    "len_str(s)"
   ]
  },
  {
   "cell_type": "markdown",
   "id": "92cea591-2306-4824-85a6-5dc142fb560b",
   "metadata": {},
   "source": [
    "# Map, Reduce and Filter Function"
   ]
  },
  {
   "cell_type": "code",
   "execution_count": 19,
   "id": "3721fbfb-bbfb-4a87-baf1-33da65e8d28a",
   "metadata": {},
   "outputs": [],
   "source": [
    "l=[1,2,4,5,6,3]"
   ]
  },
  {
   "cell_type": "code",
   "execution_count": 20,
   "id": "8f0b6655-db27-4afe-9659-0f538568c940",
   "metadata": {},
   "outputs": [],
   "source": [
    "def sq(l):\n",
    "    l1=[]\n",
    "    for i in l:\n",
    "        l1.append(i**2)\n",
    "    return l1"
   ]
  },
  {
   "cell_type": "code",
   "execution_count": 21,
   "id": "47b0041b-df10-4fd2-bec1-7c04240a76ad",
   "metadata": {},
   "outputs": [
    {
     "data": {
      "text/plain": [
       "[1, 4, 16, 25, 36, 9]"
      ]
     },
     "execution_count": 21,
     "metadata": {},
     "output_type": "execute_result"
    }
   ],
   "source": [
    "sq(l)"
   ]
  },
  {
   "cell_type": "code",
   "execution_count": 22,
   "id": "b46d9ae7-40d6-4069-816d-d88f0bf7d7bd",
   "metadata": {},
   "outputs": [],
   "source": [
    "def sqr(x):\n",
    "    return x**2"
   ]
  },
  {
   "cell_type": "code",
   "execution_count": 23,
   "id": "f3028732-8980-4acd-9d62-b1a3a95e6f31",
   "metadata": {},
   "outputs": [
    {
     "data": {
      "text/plain": [
       "<map at 0x7f21e0173ee0>"
      ]
     },
     "execution_count": 23,
     "metadata": {},
     "output_type": "execute_result"
    }
   ],
   "source": [
    "map(sqr,l)"
   ]
  },
  {
   "cell_type": "code",
   "execution_count": 24,
   "id": "bbfa3374-e198-493d-8d4f-0b144771f813",
   "metadata": {},
   "outputs": [
    {
     "data": {
      "text/plain": [
       "[1, 4, 16, 25, 36, 9]"
      ]
     },
     "execution_count": 24,
     "metadata": {},
     "output_type": "execute_result"
    }
   ],
   "source": [
    "list(map(sqr,l))"
   ]
  },
  {
   "cell_type": "code",
   "execution_count": 25,
   "id": "e01c9539-d2d4-4297-9162-8f7d33cf3db1",
   "metadata": {},
   "outputs": [
    {
     "data": {
      "text/plain": [
       "[1, 4, 16, 25, 36, 9]"
      ]
     },
     "execution_count": 25,
     "metadata": {},
     "output_type": "execute_result"
    }
   ],
   "source": [
    "list(map(lambda x: x**2,l))"
   ]
  },
  {
   "cell_type": "code",
   "execution_count": 26,
   "id": "a950f496-5527-4c34-bfd0-24c0e64c125c",
   "metadata": {},
   "outputs": [
    {
     "data": {
      "text/plain": [
       "[11, 12, 14, 15, 16, 13]"
      ]
     },
     "execution_count": 26,
     "metadata": {},
     "output_type": "execute_result"
    }
   ],
   "source": [
    "list(map(lambda x: x+10,l))"
   ]
  },
  {
   "cell_type": "code",
   "execution_count": 2,
   "id": "c15d29c4-c45f-4513-b7b8-4ce920c8961d",
   "metadata": {},
   "outputs": [
    {
     "ename": "NameError",
     "evalue": "name 'l' is not defined",
     "output_type": "error",
     "traceback": [
      "\u001b[0;31m---------------------------------------------------------------------------\u001b[0m",
      "\u001b[0;31mNameError\u001b[0m                                 Traceback (most recent call last)",
      "Cell \u001b[0;32mIn[2], line 1\u001b[0m\n\u001b[0;32m----> 1\u001b[0m \u001b[38;5;28mlist\u001b[39m(\u001b[38;5;28mmap\u001b[39m(\u001b[38;5;28;01mlambda\u001b[39;00m x: \u001b[38;5;28mstr\u001b[39m(x),\u001b[43ml\u001b[49m))\n",
      "\u001b[0;31mNameError\u001b[0m: name 'l' is not defined"
     ]
    }
   ],
   "source": [
    "list(map(lambda x: str(x),l))"
   ]
  },
  {
   "cell_type": "code",
   "execution_count": 28,
   "id": "b876a68c-affa-412e-9184-a7e6d2e99dda",
   "metadata": {},
   "outputs": [],
   "source": [
    "l1=[1,2,3,4,5]\n",
    "l2=[6,7,8,9,10]"
   ]
  },
  {
   "cell_type": "code",
   "execution_count": 29,
   "id": "13d210d3-6d4b-4de8-ae94-a04a3dbe6072",
   "metadata": {},
   "outputs": [
    {
     "data": {
      "text/plain": [
       "[7, 9, 11, 13, 15]"
      ]
     },
     "execution_count": 29,
     "metadata": {},
     "output_type": "execute_result"
    }
   ],
   "source": [
    "list(map(lambda x,y:x+y,l1,l2))"
   ]
  },
  {
   "cell_type": "code",
   "execution_count": 31,
   "id": "75f9ce4c-bbcc-4b5c-9c38-57ba0fd29cd9",
   "metadata": {},
   "outputs": [
    {
     "data": {
      "text/plain": [
       "[7, 9, 11, 13, 15]"
      ]
     },
     "execution_count": 31,
     "metadata": {},
     "output_type": "execute_result"
    }
   ],
   "source": [
    "list(map(f,l1,l2))"
   ]
  },
  {
   "cell_type": "code",
   "execution_count": 30,
   "id": "125b3c41-020a-4a32-bc8e-f0bf88f0839b",
   "metadata": {},
   "outputs": [],
   "source": [
    "f=lambda x,y:x+y"
   ]
  },
  {
   "cell_type": "code",
   "execution_count": 32,
   "id": "d14d2a39-6a16-457b-96bc-410f1ed30238",
   "metadata": {},
   "outputs": [],
   "source": [
    "s=\"pwskills\""
   ]
  },
  {
   "cell_type": "code",
   "execution_count": 34,
   "id": "5903f24b-e556-4514-8611-3dc44876785f",
   "metadata": {},
   "outputs": [
    {
     "data": {
      "text/plain": [
       "['P', 'W', 'S', 'K', 'I', 'L', 'L', 'S']"
      ]
     },
     "execution_count": 34,
     "metadata": {},
     "output_type": "execute_result"
    }
   ],
   "source": [
    "list(map (lambda x: x.upper(),s))"
   ]
  },
  {
   "cell_type": "code",
   "execution_count": 35,
   "id": "26f0d5bb-dea6-495e-833a-012399b01c8a",
   "metadata": {},
   "outputs": [
    {
     "data": {
      "text/plain": [
       "['P', 'W', 'S', 'K', 'I', 'L', 'L', 'S']"
      ]
     },
     "execution_count": 35,
     "metadata": {},
     "output_type": "execute_result"
    }
   ],
   "source": [
    "list(map (lambda x: x.title(),s))"
   ]
  },
  {
   "cell_type": "code",
   "execution_count": 36,
   "id": "81acc91d-5222-4143-81cd-6a0b1d93e07d",
   "metadata": {},
   "outputs": [],
   "source": [
    "from functools import reduce"
   ]
  },
  {
   "cell_type": "code",
   "execution_count": 37,
   "id": "bc65a5e3-b3fa-4a05-8417-aca4851b7b80",
   "metadata": {},
   "outputs": [
    {
     "data": {
      "text/plain": [
       "40"
      ]
     },
     "execution_count": 37,
     "metadata": {},
     "output_type": "execute_result"
    }
   ],
   "source": [
    "reduce(lambda x,y:x+y,l2)"
   ]
  },
  {
   "cell_type": "code",
   "execution_count": 38,
   "id": "806b6972-9318-4cbd-90da-5638246f32ec",
   "metadata": {},
   "outputs": [
    {
     "data": {
      "text/plain": [
       "15"
      ]
     },
     "execution_count": 38,
     "metadata": {},
     "output_type": "execute_result"
    }
   ],
   "source": [
    "reduce(add,l1)"
   ]
  },
  {
   "cell_type": "code",
   "execution_count": 42,
   "id": "603d8ad9-ece6-44a0-b11d-9e71c667508e",
   "metadata": {},
   "outputs": [
    {
     "data": {
      "text/plain": [
       "40"
      ]
     },
     "execution_count": 42,
     "metadata": {},
     "output_type": "execute_result"
    }
   ],
   "source": [
    "reduce(add,l2)"
   ]
  },
  {
   "cell_type": "code",
   "execution_count": 48,
   "id": "51b9de3c-0517-4469-b580-35267cdcb209",
   "metadata": {},
   "outputs": [
    {
     "data": {
      "text/plain": [
       "[1, 2, 3, 4, 5, 6, 7, 8, 9, 10]"
      ]
     },
     "execution_count": 48,
     "metadata": {},
     "output_type": "execute_result"
    }
   ],
   "source": [
    "reduce(add,(l1,l2))"
   ]
  },
  {
   "cell_type": "code",
   "execution_count": null,
   "id": "6b0b9e93-80f4-4d3f-a25d-aa96ce670b25",
   "metadata": {},
   "outputs": [],
   "source": []
  }
 ],
 "metadata": {
  "kernelspec": {
   "display_name": "Python 3 (ipykernel)",
   "language": "python",
   "name": "python3"
  },
  "language_info": {
   "codemirror_mode": {
    "name": "ipython",
    "version": 3
   },
   "file_extension": ".py",
   "mimetype": "text/x-python",
   "name": "python",
   "nbconvert_exporter": "python",
   "pygments_lexer": "ipython3",
   "version": "3.10.8"
  }
 },
 "nbformat": 4,
 "nbformat_minor": 5
}
