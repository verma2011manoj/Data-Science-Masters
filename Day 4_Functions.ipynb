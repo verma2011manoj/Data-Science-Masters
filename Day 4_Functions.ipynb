{
 "cells": [
  {
   "cell_type": "code",
   "execution_count": 3,
   "id": "5217292e-ad09-47fa-8e1f-ef62b62a6090",
   "metadata": {},
   "outputs": [],
   "source": [
    "#function creation\n",
    "def test ():\n",
    "    pass"
   ]
  },
  {
   "cell_type": "code",
   "execution_count": 7,
   "id": "c208e82f-f724-429a-b5a7-7179ccbfe20c",
   "metadata": {},
   "outputs": [
    {
     "data": {
      "text/plain": [
       "<function __main__.test1()>"
      ]
     },
     "execution_count": 7,
     "metadata": {},
     "output_type": "execute_result"
    }
   ],
   "source": [
    "def test1():\n",
    "    print(\"This is my very 1st function\")\n"
   ]
  },
  {
   "cell_type": "code",
   "execution_count": 9,
   "id": "86de6da3-1dd3-48cf-9835-d871fb8e03bc",
   "metadata": {},
   "outputs": [
    {
     "name": "stdout",
     "output_type": "stream",
     "text": [
      "This is my very 1st function\n"
     ]
    }
   ],
   "source": [
    "test1()"
   ]
  },
  {
   "cell_type": "code",
   "execution_count": 10,
   "id": "b097d623-1d9b-42aa-a0d5-6f53d4ca4d02",
   "metadata": {},
   "outputs": [],
   "source": [
    "def test2():\n",
    "    return \"This is my function with return\""
   ]
  },
  {
   "cell_type": "code",
   "execution_count": 11,
   "id": "b6058601-4242-44d9-b3d5-1421ff263d25",
   "metadata": {},
   "outputs": [
    {
     "data": {
      "text/plain": [
       "'This is my function with return'"
      ]
     },
     "execution_count": 11,
     "metadata": {},
     "output_type": "execute_result"
    }
   ],
   "source": [
    "test2()"
   ]
  },
  {
   "cell_type": "code",
   "execution_count": 15,
   "id": "7bb0d2e5-7167-4b5c-803a-d5982ac2de84",
   "metadata": {},
   "outputs": [
    {
     "data": {
      "text/plain": [
       "'This is my function with return + Adding Text'"
      ]
     },
     "execution_count": 15,
     "metadata": {},
     "output_type": "execute_result"
    }
   ],
   "source": [
    "test2()+\" + Adding Text\""
   ]
  },
  {
   "cell_type": "code",
   "execution_count": 17,
   "id": "a94217b8-cd40-4b45-86d9-267bd53fbb8d",
   "metadata": {},
   "outputs": [],
   "source": [
    "def test3():\n",
    "    return 1,3,4,\"test3\",4.5"
   ]
  },
  {
   "cell_type": "code",
   "execution_count": 19,
   "id": "697dd147-2475-41e5-96a3-a09b715bfc67",
   "metadata": {},
   "outputs": [
    {
     "data": {
      "text/plain": [
       "(1, 3, 4, 'test3', 4.5)"
      ]
     },
     "execution_count": 19,
     "metadata": {},
     "output_type": "execute_result"
    }
   ],
   "source": [
    "test3()"
   ]
  },
  {
   "cell_type": "code",
   "execution_count": 4,
   "id": "b80ee588-4039-454d-9af7-c697529ead31",
   "metadata": {},
   "outputs": [
    {
     "data": {
      "text/plain": [
       "(1, 3, True, 'Testing')"
      ]
     },
     "execution_count": 4,
     "metadata": {},
     "output_type": "execute_result"
    }
   ],
   "source": [
    "a,b,c,d = 1,3,True,\"Testing\"\n",
    "a,b,c,d"
   ]
  },
  {
   "cell_type": "code",
   "execution_count": 9,
   "id": "17221948-38ac-4e16-a395-0d67744d28b7",
   "metadata": {},
   "outputs": [],
   "source": [
    "def test4 ():\n",
    "    a= 3*4+6\n",
    "    return a "
   ]
  },
  {
   "cell_type": "code",
   "execution_count": 10,
   "id": "35038a91-9d27-41e9-8341-b0b663aeef83",
   "metadata": {},
   "outputs": [
    {
     "data": {
      "text/plain": [
       "18"
      ]
     },
     "execution_count": 10,
     "metadata": {},
     "output_type": "execute_result"
    }
   ],
   "source": [
    "test4()"
   ]
  },
  {
   "cell_type": "code",
   "execution_count": 11,
   "id": "3e1001d5-3bf1-4721-b923-085803858a47",
   "metadata": {},
   "outputs": [
    {
     "data": {
      "text/plain": [
       "int"
      ]
     },
     "execution_count": 11,
     "metadata": {},
     "output_type": "execute_result"
    }
   ],
   "source": [
    "type(test4())"
   ]
  },
  {
   "cell_type": "code",
   "execution_count": 27,
   "id": "afa3f9d9-016a-4cd1-8356-40c71550cdce",
   "metadata": {},
   "outputs": [],
   "source": [
    "def test5(a,b):\n",
    "    c=a+b\n",
    "    return c"
   ]
  },
  {
   "cell_type": "code",
   "execution_count": 31,
   "id": "542fa287-2110-4c56-9f93-e76f5081c354",
   "metadata": {},
   "outputs": [
    {
     "data": {
      "text/plain": [
       "7"
      ]
     },
     "execution_count": 31,
     "metadata": {},
     "output_type": "execute_result"
    }
   ],
   "source": [
    "test5 (3,4)"
   ]
  },
  {
   "cell_type": "code",
   "execution_count": 33,
   "id": "9bbe2c8e-9556-4a4c-90a0-f88872ef2529",
   "metadata": {},
   "outputs": [
    {
     "data": {
      "text/plain": [
       "'Manoj Kumar'"
      ]
     },
     "execution_count": 33,
     "metadata": {},
     "output_type": "execute_result"
    }
   ],
   "source": [
    "test5 (\"Manoj\",\" Kumar\")"
   ]
  },
  {
   "cell_type": "code",
   "execution_count": 34,
   "id": "3f6a9c07-378e-43b8-be97-8682fbd9e2d8",
   "metadata": {},
   "outputs": [
    {
     "data": {
      "text/plain": [
       "[1, 2, 3, 4, 5, 6, 7, 8, 9]"
      ]
     },
     "execution_count": 34,
     "metadata": {},
     "output_type": "execute_result"
    }
   ],
   "source": [
    "test5([1,2,3,4,5],[6,7,8,9])"
   ]
  },
  {
   "cell_type": "code",
   "execution_count": 35,
   "id": "55e7898d-b681-487d-a969-7bee49d539da",
   "metadata": {},
   "outputs": [
    {
     "data": {
      "text/plain": [
       "'Manoj Kumar'"
      ]
     },
     "execution_count": 35,
     "metadata": {},
     "output_type": "execute_result"
    }
   ],
   "source": [
    "test5 (b=\" Kumar\", a= \"Manoj\")"
   ]
  },
  {
   "cell_type": "code",
   "execution_count": 38,
   "id": "015aa5e2-5580-44c2-9d65-7c8527442b16",
   "metadata": {},
   "outputs": [
    {
     "data": {
      "text/plain": [
       "'5Manoj'"
      ]
     },
     "execution_count": 38,
     "metadata": {},
     "output_type": "execute_result"
    }
   ],
   "source": [
    "test5('5',\"Manoj\")"
   ]
  },
  {
   "cell_type": "code",
   "execution_count": null,
   "id": "8d3e55ba-615d-4e96-b5bb-6e2910cca76b",
   "metadata": {},
   "outputs": [],
   "source": [
    "lst=[1,2,3,4,5,\"Manoj Kumar\",[7,8,9,0]]"
   ]
  },
  {
   "cell_type": "code",
   "execution_count": 71,
   "id": "06c764e0-c6f5-40f6-bb43-cc5cc4a84bd6",
   "metadata": {},
   "outputs": [],
   "source": [
    "# create a function list as a input and output as only numeric values\n",
    "def test6 (a) :\n",
    "    n=[] \n",
    "    for i in a :\n",
    "        if type(i)==int or type(i)==float :\n",
    "            n.append(i)\n",
    "    return n"
   ]
  },
  {
   "cell_type": "code",
   "execution_count": 77,
   "id": "142c350f-887f-4f87-b0d0-e26a55468747",
   "metadata": {},
   "outputs": [
    {
     "data": {
      "text/plain": [
       "[1, 2, 3, 4, 5]"
      ]
     },
     "execution_count": 77,
     "metadata": {},
     "output_type": "execute_result"
    }
   ],
   "source": [
    "test6 ([1,2,3,4,5,\"Manoj Kumar\",[7,8,9,0]])"
   ]
  },
  {
   "cell_type": "code",
   "execution_count": 20,
   "id": "7b082148-9d5c-49f3-86db-952fa3aac510",
   "metadata": {},
   "outputs": [],
   "source": [
    "def test7 (a) :\n",
    "    n=[]\n",
    "    for i in a:\n",
    "        if type(i)==list :\n",
    "            for j in i :\n",
    "                if type(j)==int or type(j)==float:\n",
    "                    n.append(j)\n",
    "        else:\n",
    "            if type(i)==int or type(i)==float:\n",
    "                n.append(i)\n",
    "    return n"
   ]
  },
  {
   "cell_type": "code",
   "execution_count": 21,
   "id": "df914fc4-2695-4faf-8644-d0f077b3ff33",
   "metadata": {},
   "outputs": [
    {
     "ename": "NameError",
     "evalue": "name 'l' is not defined",
     "output_type": "error",
     "traceback": [
      "\u001b[0;31m---------------------------------------------------------------------------\u001b[0m",
      "\u001b[0;31mNameError\u001b[0m                                 Traceback (most recent call last)",
      "Cell \u001b[0;32mIn[21], line 1\u001b[0m\n\u001b[0;32m----> 1\u001b[0m test7(\u001b[43ml\u001b[49m)\n",
      "\u001b[0;31mNameError\u001b[0m: name 'l' is not defined"
     ]
    }
   ],
   "source": [
    "test7(l)"
   ]
  },
  {
   "cell_type": "code",
   "execution_count": 22,
   "id": "a8add1f4-bb38-4123-a831-d99fed607f3d",
   "metadata": {},
   "outputs": [],
   "source": [
    "def test8(a,bc,d,e):\n",
    "    pass"
   ]
  },
  {
   "cell_type": "code",
   "execution_count": 23,
   "id": "561d2cde-9995-4cef-8959-1f1fac28fac1",
   "metadata": {},
   "outputs": [
    {
     "ename": "TypeError",
     "evalue": "test8() takes 4 positional arguments but 5 were given",
     "output_type": "error",
     "traceback": [
      "\u001b[0;31m---------------------------------------------------------------------------\u001b[0m",
      "\u001b[0;31mTypeError\u001b[0m                                 Traceback (most recent call last)",
      "Cell \u001b[0;32mIn[23], line 1\u001b[0m\n\u001b[0;32m----> 1\u001b[0m \u001b[43mtest8\u001b[49m\u001b[43m(\u001b[49m\u001b[38;5;241;43m1\u001b[39;49m\u001b[43m,\u001b[49m\u001b[38;5;241;43m2\u001b[39;49m\u001b[43m,\u001b[49m\u001b[38;5;241;43m33\u001b[39;49m\u001b[43m,\u001b[49m\u001b[38;5;241;43m4\u001b[39;49m\u001b[43m,\u001b[49m\u001b[38;5;241;43m5\u001b[39;49m\u001b[43m)\u001b[49m\n",
      "\u001b[0;31mTypeError\u001b[0m: test8() takes 4 positional arguments but 5 were given"
     ]
    }
   ],
   "source": [
    "test8(1,2,33,4,5)"
   ]
  },
  {
   "cell_type": "code",
   "execution_count": 12,
   "id": "95e6d93b-5fe7-4b8a-b2a7-ec8aca67f6ae",
   "metadata": {},
   "outputs": [
    {
     "ename": "NameError",
     "evalue": "name 'test8' is not defined",
     "output_type": "error",
     "traceback": [
      "\u001b[0;31m---------------------------------------------------------------------------\u001b[0m",
      "\u001b[0;31mNameError\u001b[0m                                 Traceback (most recent call last)",
      "Cell \u001b[0;32mIn[12], line 1\u001b[0m\n\u001b[0;32m----> 1\u001b[0m \u001b[43mtest8\u001b[49m(\u001b[38;5;241m1\u001b[39m,\u001b[38;5;241m3\u001b[39m,\u001b[38;5;241m4\u001b[39m,\u001b[38;5;241m5\u001b[39m,\u001b[38;5;241m4\u001b[39m,\u001b[38;5;241m3\u001b[39m,\u001b[38;5;241m2\u001b[39m)\n",
      "\u001b[0;31mNameError\u001b[0m: name 'test8' is not defined"
     ]
    }
   ],
   "source": [
    "test8(1,3,4,5,4,3,2)"
   ]
  },
  {
   "cell_type": "code",
   "execution_count": 24,
   "id": "3b02bbf5-3a85-4439-a4f5-64089a93c7e3",
   "metadata": {},
   "outputs": [],
   "source": [
    "def test9(*args):\n",
    "    return args"
   ]
  },
  {
   "cell_type": "code",
   "execution_count": 25,
   "id": "a1ee8b39-db01-4396-a072-afe29808114f",
   "metadata": {},
   "outputs": [
    {
     "data": {
      "text/plain": [
       "(2,)"
      ]
     },
     "execution_count": 25,
     "metadata": {},
     "output_type": "execute_result"
    }
   ],
   "source": [
    "test9(2)"
   ]
  },
  {
   "cell_type": "code",
   "execution_count": 27,
   "id": "9811dce7-63cc-403e-811a-03bbde23f855",
   "metadata": {},
   "outputs": [
    {
     "data": {
      "text/plain": [
       "(1, 2, 3, 4, 5)"
      ]
     },
     "execution_count": 27,
     "metadata": {},
     "output_type": "execute_result"
    }
   ],
   "source": [
    "test9(1,2,3,4,5)"
   ]
  },
  {
   "cell_type": "code",
   "execution_count": 28,
   "id": "88040fe2-703b-48da-a918-261c3a71da88",
   "metadata": {},
   "outputs": [
    {
     "data": {
      "text/plain": [
       "function"
      ]
     },
     "execution_count": 28,
     "metadata": {},
     "output_type": "execute_result"
    }
   ],
   "source": [
    "type(test9)"
   ]
  },
  {
   "cell_type": "code",
   "execution_count": 30,
   "id": "7e0fccaa-dce0-4096-ab61-54d1a88297a9",
   "metadata": {},
   "outputs": [
    {
     "data": {
      "text/plain": [
       "('Manoj', 1, 2, 4, (1, 2, 3, 4), [1, 2, 3, 4])"
      ]
     },
     "execution_count": 30,
     "metadata": {},
     "output_type": "execute_result"
    }
   ],
   "source": [
    "test9(\"Manoj\",1,2,4,(1,2,3,4),[1,2,3,4])"
   ]
  },
  {
   "cell_type": "code",
   "execution_count": 34,
   "id": "3be38160-8b01-414e-b248-4dbde91306ed",
   "metadata": {},
   "outputs": [],
   "source": [
    "def test10(*args, a):\n",
    "    return args, a"
   ]
  },
  {
   "cell_type": "code",
   "execution_count": 37,
   "id": "835f607d-1764-4407-95df-ee62571431dd",
   "metadata": {},
   "outputs": [
    {
     "ename": "TypeError",
     "evalue": "test10() missing 1 required keyword-only argument: 'a'",
     "output_type": "error",
     "traceback": [
      "\u001b[0;31m---------------------------------------------------------------------------\u001b[0m",
      "\u001b[0;31mTypeError\u001b[0m                                 Traceback (most recent call last)",
      "Cell \u001b[0;32mIn[37], line 1\u001b[0m\n\u001b[0;32m----> 1\u001b[0m \u001b[43mtest10\u001b[49m\u001b[43m(\u001b[49m\u001b[38;5;241;43m1\u001b[39;49m\u001b[43m,\u001b[49m\u001b[38;5;241;43m2\u001b[39;49m\u001b[43m,\u001b[49m\u001b[38;5;241;43m3\u001b[39;49m\u001b[43m,\u001b[49m\u001b[38;5;241;43m1\u001b[39;49m\u001b[43m)\u001b[49m\n",
      "\u001b[0;31mTypeError\u001b[0m: test10() missing 1 required keyword-only argument: 'a'"
     ]
    }
   ],
   "source": [
    "test10(1,2,3,1)"
   ]
  },
  {
   "cell_type": "code",
   "execution_count": 38,
   "id": "a0f9e79c-00a2-4cd1-b84a-6c11b1ae26a7",
   "metadata": {},
   "outputs": [
    {
     "data": {
      "text/plain": [
       "((1, 2, 3, 4), 'Data')"
      ]
     },
     "execution_count": 38,
     "metadata": {},
     "output_type": "execute_result"
    }
   ],
   "source": [
    "test10(1,2,3,4,a=\"Data\")"
   ]
  },
  {
   "cell_type": "code",
   "execution_count": 2,
   "id": "19f2de1f-4eef-481e-ac9d-2550dff2bdac",
   "metadata": {},
   "outputs": [],
   "source": [
    "def test11(*args):\n",
    "    l=[]\n",
    "    for i in args:\n",
    "        if type(i)==list:\n",
    "            l.append(i)\n",
    "        return l"
   ]
  },
  {
   "cell_type": "code",
   "execution_count": 6,
   "id": "07d6c1cc-b849-448b-bfce-b7b3af5b516e",
   "metadata": {},
   "outputs": [
    {
     "data": {
      "text/plain": [
       "[]"
      ]
     },
     "execution_count": 6,
     "metadata": {},
     "output_type": "execute_result"
    }
   ],
   "source": [
    "test11(1,3,4,5,(1,1,1,1,1),\"Jay\",\"Jay Hai\", [1,3,4,5,5])"
   ]
  },
  {
   "cell_type": "code",
   "execution_count": 8,
   "id": "493f1c3c-b992-409a-bd8c-661b5d767c50",
   "metadata": {},
   "outputs": [],
   "source": [
    "def test12(**kwargs):\n",
    "    return kwargs"
   ]
  },
  {
   "cell_type": "code",
   "execution_count": 9,
   "id": "b62a427a-b44d-445b-8000-804286117795",
   "metadata": {},
   "outputs": [
    {
     "data": {
      "text/plain": [
       "{}"
      ]
     },
     "execution_count": 9,
     "metadata": {},
     "output_type": "execute_result"
    }
   ],
   "source": [
    "test12()"
   ]
  },
  {
   "cell_type": "code",
   "execution_count": 11,
   "id": "bd8a14a7-df9d-4443-a396-1bdc7c7e3bf1",
   "metadata": {},
   "outputs": [
    {
     "data": {
      "text/plain": [
       "dict"
      ]
     },
     "execution_count": 11,
     "metadata": {},
     "output_type": "execute_result"
    }
   ],
   "source": [
    "type(test12())"
   ]
  },
  {
   "cell_type": "code",
   "execution_count": 12,
   "id": "97506e16-deeb-4dc0-afb6-90aa61872108",
   "metadata": {},
   "outputs": [
    {
     "data": {
      "text/plain": [
       "{'a': 2, 'b': (1, 2, 3, 4, 5), 'c': 'Manoj'}"
      ]
     },
     "execution_count": 12,
     "metadata": {},
     "output_type": "execute_result"
    }
   ],
   "source": [
    "test12(a=2,b=(1,2,3,4,5),c=\"Manoj\")"
   ]
  },
  {
   "cell_type": "code",
   "execution_count": 13,
   "id": "d3595c12-1a6e-41d7-9e57-2a5337429a24",
   "metadata": {},
   "outputs": [
    {
     "data": {
      "text/plain": [
       "NoneType"
      ]
     },
     "execution_count": 13,
     "metadata": {},
     "output_type": "execute_result"
    }
   ],
   "source": [
    "type(test11())"
   ]
  },
  {
   "cell_type": "code",
   "execution_count": 16,
   "id": "89a18b5f-20b0-425d-a9c6-920b6cb9834e",
   "metadata": {},
   "outputs": [],
   "source": [
    "def test13(** kwargs):\n",
    "    for i in kwargs.keys():\n",
    "        if type(kwargs[i]==list):\n",
    "                return i , kwargs[i]"
   ]
  },
  {
   "cell_type": "code",
   "execution_count": 17,
   "id": "4855e521-c34a-4c1f-a2d0-44d5b33d540e",
   "metadata": {},
   "outputs": [
    {
     "data": {
      "text/plain": [
       "('a', 2)"
      ]
     },
     "execution_count": 17,
     "metadata": {},
     "output_type": "execute_result"
    }
   ],
   "source": [
    "test13(a=2,b=(1,2,3,4,5),c=\"Manoj\")"
   ]
  },
  {
   "cell_type": "code",
   "execution_count": 20,
   "id": "b847c9b0-08fa-4f43-9d7c-ed60d0fac545",
   "metadata": {},
   "outputs": [],
   "source": [
    "def test14(*args,**kwargs):\n",
    "    return args, kwargs"
   ]
  },
  {
   "cell_type": "code",
   "execution_count": 21,
   "id": "c5ac8ea1-77a2-450b-a964-15eb3581950c",
   "metadata": {},
   "outputs": [
    {
     "data": {
      "text/plain": [
       "((1, 3, 4, 556), {'a': 33, 'b': 'PWSkills'})"
      ]
     },
     "execution_count": 21,
     "metadata": {},
     "output_type": "execute_result"
    }
   ],
   "source": [
    "test14(1,3,4,556,a=33,b=\"PWSkills\")"
   ]
  },
  {
   "cell_type": "markdown",
   "id": "5fd9604b-0c66-42e6-b3d8-2e43a332d7b0",
   "metadata": {},
   "source": [
    "## Generator Function"
   ]
  },
  {
   "cell_type": "code",
   "execution_count": 22,
   "id": "9cf669ce-5d27-439b-bad5-a423c7e2fea2",
   "metadata": {},
   "outputs": [
    {
     "data": {
      "text/plain": [
       "range(1, 10)"
      ]
     },
     "execution_count": 22,
     "metadata": {},
     "output_type": "execute_result"
    }
   ],
   "source": [
    "range (1,10)"
   ]
  },
  {
   "cell_type": "code",
   "execution_count": 26,
   "id": "86f62135-82de-4b3e-a8a4-5d66ba372a1f",
   "metadata": {},
   "outputs": [
    {
     "name": "stdout",
     "output_type": "stream",
     "text": [
      "1\n",
      "2\n",
      "3\n",
      "4\n",
      "5\n",
      "6\n",
      "7\n",
      "8\n",
      "9\n"
     ]
    }
   ],
   "source": [
    "for i in range(1,10):\n",
    "    print(i)\n",
    "    #print(i,end=\"\")"
   ]
  },
  {
   "cell_type": "code",
   "execution_count": 42,
   "id": "e3c7b8fe-368d-44cf-9fc3-de107100b108",
   "metadata": {},
   "outputs": [],
   "source": [
    "m=[1,2,3,4,55,\"PW Skills\", \"Data Science Masters\"]"
   ]
  },
  {
   "cell_type": "code",
   "execution_count": 44,
   "id": "5fe760c6-8fb9-48ac-8cc6-0576eca8e326",
   "metadata": {},
   "outputs": [],
   "source": [
    "def test15(a):\n",
    "    n=[]\n",
    "    for i in a:\n",
    "        if type(i)== int:\n",
    "            n.append(i)\n",
    "    return n"
   ]
  },
  {
   "cell_type": "code",
   "execution_count": 45,
   "id": "d0aa128f-af57-48d3-aa76-226f98d1f96b",
   "metadata": {},
   "outputs": [
    {
     "data": {
      "text/plain": [
       "[1, 2, 3, 4, 55]"
      ]
     },
     "execution_count": 45,
     "metadata": {},
     "output_type": "execute_result"
    }
   ],
   "source": [
    "test15(m)"
   ]
  },
  {
   "cell_type": "code",
   "execution_count": 46,
   "id": "62b3cc4d-eabb-4f43-bc50-1d0fbd5367de",
   "metadata": {},
   "outputs": [],
   "source": [
    "def test_fib(n):\n",
    "    a,b=0,1\n",
    "    for i in range(n):\n",
    "        yield a\n",
    "        a,b=b,a+b        "
   ]
  },
  {
   "cell_type": "code",
   "execution_count": 47,
   "id": "070d81b3-492c-4ae1-87ae-98359332f1be",
   "metadata": {},
   "outputs": [
    {
     "data": {
      "text/plain": [
       "<generator object test_fib at 0x7f4d2ca928f0>"
      ]
     },
     "execution_count": 47,
     "metadata": {},
     "output_type": "execute_result"
    }
   ],
   "source": [
    "test_fib(10)"
   ]
  },
  {
   "cell_type": "code",
   "execution_count": 51,
   "id": "5d62fa3c-e798-41d1-9d95-4cb09b9b0869",
   "metadata": {},
   "outputs": [
    {
     "name": "stdout",
     "output_type": "stream",
     "text": [
      "0\n",
      "1\n",
      "1\n",
      "2\n",
      "3\n",
      "5\n",
      "8\n",
      "13\n",
      "21\n",
      "34\n"
     ]
    }
   ],
   "source": [
    "for i in test_fib(10):\n",
    "    print(i)"
   ]
  },
  {
   "cell_type": "code",
   "execution_count": null,
   "id": "7397afab-c28d-4dc4-96f1-a5658d783adc",
   "metadata": {},
   "outputs": [],
   "source": []
  }
 ],
 "metadata": {
  "kernelspec": {
   "display_name": "Python 3 (ipykernel)",
   "language": "python",
   "name": "python3"
  },
  "language_info": {
   "codemirror_mode": {
    "name": "ipython",
    "version": 3
   },
   "file_extension": ".py",
   "mimetype": "text/x-python",
   "name": "python",
   "nbconvert_exporter": "python",
   "pygments_lexer": "ipython3",
   "version": "3.10.8"
  }
 },
 "nbformat": 4,
 "nbformat_minor": 5
}
