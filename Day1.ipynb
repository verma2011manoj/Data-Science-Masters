{
 "cells": [
  {
   "cell_type": "code",
   "execution_count": 1,
   "id": "81ddd807-ecc0-4d34-8401-5da92de57161",
   "metadata": {},
   "outputs": [
    {
     "data": {
      "text/plain": [
       "2"
      ]
     },
     "execution_count": 1,
     "metadata": {},
     "output_type": "execute_result"
    }
   ],
   "source": [
    "1+1"
   ]
  },
  {
   "cell_type": "markdown",
   "id": "b5c3501f-1c3f-4f91-8112-2cc20d1283a0",
   "metadata": {},
   "source": [
    "# Hello\n",
    "#Hello\n",
    "## Hello\n"
   ]
  },
  {
   "cell_type": "code",
   "execution_count": 1,
   "id": "0f0bf9c3-d42f-4c98-bd7f-20f0a2d27139",
   "metadata": {},
   "outputs": [
    {
     "data": {
      "text/plain": [
       "<function print>"
      ]
     },
     "execution_count": 1,
     "metadata": {},
     "output_type": "execute_result"
    }
   ],
   "source": [
    "print\n"
   ]
  },
  {
   "cell_type": "code",
   "execution_count": 2,
   "id": "35da897b-33cf-42eb-8744-b9c071d15c50",
   "metadata": {},
   "outputs": [
    {
     "name": "stdout",
     "output_type": "stream",
     "text": [
      "My age is : 27\n"
     ]
    }
   ],
   "source": [
    "age=27\n",
    "print(\"My age is :\", age)"
   ]
  },
  {
   "cell_type": "code",
   "execution_count": null,
   "id": "b5dd5d59-a1cd-482f-a3bb-89054a39ab9f",
   "metadata": {},
   "outputs": [
    {
     "name": "stdout",
     "output_type": "stream",
     "text": [
      "My age is 27\n"
     ]
    }
   ],
   "source": [
    "age=27\n",
    "print(f\"My age is {age}\")"
   ]
  },
  {
   "cell_type": "code",
   "execution_count": 5,
   "id": "0e0168ed-7a96-4ab0-b768-a378de6071bb",
   "metadata": {},
   "outputs": [
    {
     "name": "stdout",
     "output_type": "stream",
     "text": [
      "My name is Manoj and my age is 27\n"
     ]
    }
   ],
   "source": [
    "#format()\n",
    "name=\"Manoj\"\n",
    "Age=27\n",
    "print(\"My name is {} and my age is {}\".format(name,Age))"
   ]
  },
  {
   "cell_type": "code",
   "execution_count": 12,
   "id": "26524403-3bc2-4a95-b584-81a3c29d0b6c",
   "metadata": {},
   "outputs": [
    {
     "name": "stdin",
     "output_type": "stream",
     "text": [
      "please enter the price : 800\n"
     ]
    },
    {
     "name": "stdout",
     "output_type": "stream",
     "text": [
      "The price of the product is reduced to 560.0\n"
     ]
    }
   ],
   "source": [
    "#entering mall \n",
    "price= int(input(\"please enter the price :\"))\n",
    "if price >=1000:\n",
    "    print(\"The price of the product is reduced to {}\".format(price*.8))\n",
    "    # print(discount)\n",
    "else:\n",
    "    print(\"The price of the product is reduced to {}\".format(price*.7))\n"
   ]
  },
  {
   "cell_type": "markdown",
   "id": "6d690a00-f1bb-4bba-948f-9f5148d38dbc",
   "metadata": {},
   "source": [
    "# Loop Statements\n",
    "1. for loop\n",
    "2. while loop\n",
    "3. nested loops\n",
    "4. loop controls(break, continue, pass)"
   ]
  },
  {
   "cell_type": "code",
   "execution_count": 21,
   "id": "c950fee9-d6c5-45e0-9da5-029a5994d89d",
   "metadata": {},
   "outputs": [
    {
     "name": "stdout",
     "output_type": "stream",
     "text": [
      "You have completed 1 of service and your age is 26\n",
      "You have completed 2 of service and your age is 27\n",
      "You have completed 3 of service and your age is 28\n",
      "You have completed 4 of service and your age is 29\n",
      "You have completed 5 of service and your age is 30\n",
      "You have completed 6 of service and your age is 31\n",
      "You have completed 7 of service and your age is 32\n",
      "You have completed 8 of service and your age is 33\n",
      "You have completed 9 of service and your age is 34\n",
      "You have completed 10 of service and your age is 35\n",
      "You have completed 11 of service and your age is 36\n",
      "You have completed 12 of service and your age is 37\n",
      "You have completed 13 of service and your age is 38\n",
      "You have completed 14 of service and your age is 39\n",
      "You have completed 15 of service and your age is 40\n",
      "You have completed 16 of service and your age is 41\n",
      "You have completed 17 of service and your age is 42\n",
      "You have completed 18 of service and your age is 43\n",
      "You have completed 19 of service and your age is 44\n",
      "You have completed 20 of service and your age is 45\n",
      "You have completed 21 of service and your age is 46\n",
      "You have completed 22 of service and your age is 47\n",
      "You have completed 23 of service and your age is 48\n",
      "You have completed 24 of service and your age is 49\n",
      "You have completed 25 of service and your age is 50\n",
      "You have completed 26 of service and your age is 51\n",
      "You have completed 27 of service and your age is 52\n",
      "You have completed 28 of service and your age is 53\n",
      "You have completed 29 of service and your age is 54\n",
      "You have completed 30 of service and your age is 55\n",
      "You have completed 31 of service and your age is 56\n",
      "You have completed 32 of service and your age is 57\n",
      "You have completed 33 of service and your age is 58\n",
      "You have completed 34 of service and your age is 59\n",
      "You have completed 35 of service and your age is 60\n",
      "Congratulation!!! Its time to retire, enjoy your life ahead!!\n"
     ]
    }
   ],
   "source": [
    "#while loop\n",
    "joining_age = 25\n",
    "\n",
    "while joining_age<60:\n",
    "    joining_age+=1\n",
    "    print(f\"You have completed {joining_age-25} of service and your age is {joining_age}\")\n",
    "else:\n",
    "    print(\"Congratulation!!! Its time to retire, enjoy your life ahead!!\")\n",
    "    "
   ]
  },
  {
   "cell_type": "code",
   "execution_count": 22,
   "id": "c4601d1e-33a2-43cc-a9df-307ab8300ac5",
   "metadata": {},
   "outputs": [
    {
     "name": "stdout",
     "output_type": "stream",
     "text": [
      "Total Cash in ATM is 1000\n",
      "Total Cash in ATM is 900\n",
      "Total Cash in ATM is 800\n",
      "Total Cash in ATM is 700\n",
      "Total Cash in ATM is 600\n",
      "Total Cash in ATM is 500\n",
      "Total Cash in ATM is 400\n",
      "Total Cash in ATM is 300\n",
      "Total Cash in ATM is 200\n",
      "Total Cash in ATM is 100\n",
      "Sorry for the inconvenience, there is no cash in the ATM, check another ATM\n"
     ]
    }
   ],
   "source": [
    "#ATM Machine with 1000 Rupees\n",
    "cash=1000\n",
    "while cash>0:\n",
    "    print(f\"Total Cash in ATM is {cash}\")\n",
    "    cash-=100\n",
    "else:\n",
    "    print(\"Sorry for the inconvenience, there is no cash in the ATM, check another ATM\")\n",
    "    "
   ]
  },
  {
   "cell_type": "markdown",
   "id": "30e9a895-1c52-43c3-a0d5-12847e63b752",
   "metadata": {},
   "source": [
    "# for loop"
   ]
  },
  {
   "cell_type": "code",
   "execution_count": 23,
   "id": "b9b71227-eed9-45f0-bc15-ce069ce4aef1",
   "metadata": {},
   "outputs": [],
   "source": [
    "lst= [\"Man\",1,2,4,3,4,5,\"animals\"]"
   ]
  },
  {
   "cell_type": "code",
   "execution_count": 24,
   "id": "4d8b204e-01f7-4884-adf9-af07b1e533d9",
   "metadata": {},
   "outputs": [
    {
     "data": {
      "text/plain": [
       "list"
      ]
     },
     "execution_count": 24,
     "metadata": {},
     "output_type": "execute_result"
    }
   ],
   "source": [
    "type(lst)"
   ]
  },
  {
   "cell_type": "code",
   "execution_count": 26,
   "id": "e645711f-dd50-422f-8042-d51fd403a0b6",
   "metadata": {},
   "outputs": [
    {
     "data": {
      "text/plain": [
       "'animals'"
      ]
     },
     "execution_count": 26,
     "metadata": {},
     "output_type": "execute_result"
    }
   ],
   "source": [
    "lst[6]"
   ]
  },
  {
   "cell_type": "code",
   "execution_count": 27,
   "id": "5d827af8-6399-40e6-a17a-54dd4f512485",
   "metadata": {},
   "outputs": [
    {
     "data": {
      "text/plain": [
       "['Man', 1, 2, 3, 4, 5, 'animals']"
      ]
     },
     "execution_count": 27,
     "metadata": {},
     "output_type": "execute_result"
    }
   ],
   "source": [
    "lst"
   ]
  },
  {
   "cell_type": "code",
   "execution_count": 34,
   "id": "6e4c77f1-c4ee-43ee-b821-4a84e9fe0bc8",
   "metadata": {},
   "outputs": [
    {
     "name": "stdout",
     "output_type": "stream",
     "text": [
      "Man12345animals\n",
      "You have reached last element of the list\n"
     ]
    }
   ],
   "source": [
    "for x in lst:\n",
    "    print (x, end=\"\")\n",
    "    if x==\"animals\":\n",
    "        print(\"\\nYou have reached last element of the list\")"
   ]
  },
  {
   "cell_type": "code",
   "execution_count": 35,
   "id": "ef165b19-4092-4caa-a480-f0e4a748fb07",
   "metadata": {},
   "outputs": [
    {
     "name": "stdout",
     "output_type": "stream",
     "text": [
      "m\n",
      "a\n",
      "n\n",
      "g\n",
      "o\n"
     ]
    }
   ],
   "source": [
    "fruit='mango'\n",
    "for x in fruit:\n",
    "    print(x)\n",
    "    "
   ]
  },
  {
   "cell_type": "code",
   "execution_count": 38,
   "id": "f5a3481e-16b6-4c7b-9281-cf56df0ec322",
   "metadata": {},
   "outputs": [
    {
     "name": "stdout",
     "output_type": "stream",
     "text": [
      "1\n",
      "3\n",
      "5\n"
     ]
    }
   ],
   "source": [
    "for i in range(1,6):\n",
    "    print (i)\n"
   ]
  },
  {
   "cell_type": "code",
   "execution_count": 39,
   "id": "e154a40f-d469-405a-b7a6-5d3e4d2c97e4",
   "metadata": {},
   "outputs": [
    {
     "name": "stdout",
     "output_type": "stream",
     "text": [
      "1\n",
      "3\n",
      "5\n",
      "7\n",
      "9\n"
     ]
    }
   ],
   "source": [
    "for i in range(1,10,2):\n",
    "    print (i)\n"
   ]
  },
  {
   "cell_type": "markdown",
   "id": "d3a92abd-2c54-4880-bbf6-8bc23fa9859c",
   "metadata": {},
   "source": [
    "### Nested loops"
   ]
  },
  {
   "cell_type": "code",
   "execution_count": 45,
   "id": "89db8ce6-59b7-433c-8093-f400f07469d2",
   "metadata": {},
   "outputs": [
    {
     "name": "stdout",
     "output_type": "stream",
     "text": [
      "0,0 - *\n",
      "1,0 - *1,1 - *\n",
      "2,0 - *2,1 - *2,2 - *\n",
      "3,0 - *3,1 - *3,2 - *3,3 - *\n",
      "4,0 - *4,1 - *4,2 - *4,3 - *4,4 - *\n",
      "5,0 - *5,1 - *5,2 - *5,3 - *5,4 - *5,5 - *\n",
      "6,0 - *6,1 - *6,2 - *6,3 - *6,4 - *6,5 - *6,6 - *\n"
     ]
    }
   ],
   "source": [
    "n=7\n",
    "for i in range(0,n):\n",
    "    for j in range (0,i+1):\n",
    "        print (f\"{i},{j} - *\",end='')\n",
    "    print(\"\\r\")"
   ]
  },
  {
   "cell_type": "code",
   "execution_count": null,
   "id": "78ec8910-5bc2-4680-a961-8218f16e5dbc",
   "metadata": {},
   "outputs": [],
   "source": []
  },
  {
   "cell_type": "code",
   "execution_count": 46,
   "id": "311a05bc-7ba3-4f01-9560-df643350ef7a",
   "metadata": {},
   "outputs": [
    {
     "name": "stdout",
     "output_type": "stream",
     "text": [
      "*\n",
      "**\n",
      "***\n",
      "****\n",
      "*****\n",
      "******\n",
      "*******\n"
     ]
    }
   ],
   "source": [
    "n=7\n",
    "for i in range(0,n):\n",
    "    for j in range (0,i+1):\n",
    "        print (\"*\",end='')\n",
    "    print(\"\\r\")"
   ]
  },
  {
   "cell_type": "code",
   "execution_count": 60,
   "id": "a263e7fa-0531-4186-81d4-37be649fe1ea",
   "metadata": {},
   "outputs": [
    {
     "name": "stdout",
     "output_type": "stream",
     "text": [
      "\n",
      "\n",
      "\n",
      "*\n",
      "*\n",
      "*\n",
      "*\n"
     ]
    }
   ],
   "source": [
    "n=7\n",
    "for i in range(0,n):\n",
    "    for j in range (0,i+1):\n",
    "        if j==int(n/2):\n",
    "            print (\"*\",end='')\n",
    "    print(\"\\r\")\n",
    "    "
   ]
  },
  {
   "cell_type": "markdown",
   "id": "2918213b-495a-4a13-b764-13cb7c95c2b2",
   "metadata": {},
   "source": [
    "## Loop controls "
   ]
  },
  {
   "cell_type": "code",
   "execution_count": 63,
   "id": "e74809f2-9c61-4c80-be4f-f4e4b0bef252",
   "metadata": {},
   "outputs": [
    {
     "name": "stdout",
     "output_type": "stream",
     "text": [
      "Man\n",
      "1\n"
     ]
    }
   ],
   "source": [
    "for x in lst:\n",
    "    if x==2:\n",
    "        break\n",
    "    print (x)"
   ]
  },
  {
   "cell_type": "code",
   "execution_count": 65,
   "id": "3613c91d-ef43-4195-87c7-33c93c13df33",
   "metadata": {},
   "outputs": [
    {
     "name": "stdout",
     "output_type": "stream",
     "text": [
      "Man\n",
      "1\n",
      "3\n",
      "4\n",
      "5\n",
      "animals\n"
     ]
    }
   ],
   "source": [
    "#continue \n",
    "for x in lst:\n",
    "    if x==2:\n",
    "        continue\n",
    "    print (x)"
   ]
  },
  {
   "cell_type": "code",
   "execution_count": null,
   "id": "794cbcc8-aac4-4b32-9eb5-eb04720aa9e5",
   "metadata": {},
   "outputs": [],
   "source": []
  }
 ],
 "metadata": {
  "kernelspec": {
   "display_name": "Python 3 (ipykernel)",
   "language": "python",
   "name": "python3"
  },
  "language_info": {
   "codemirror_mode": {
    "name": "ipython",
    "version": 3
   },
   "file_extension": ".py",
   "mimetype": "text/x-python",
   "name": "python",
   "nbconvert_exporter": "python",
   "pygments_lexer": "ipython3",
   "version": "3.10.8"
  }
 },
 "nbformat": 4,
 "nbformat_minor": 5
}
