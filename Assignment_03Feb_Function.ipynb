{
 "cells": [
  {
   "cell_type": "markdown",
   "id": "935a5b64-1d61-44f1-9fbc-8c752adbd857",
   "metadata": {},
   "source": [
    "### Q1. Which keyword is used to create a function? Create a function to return a list of odd numbers in the range of 1 to 25."
   ]
  },
  {
   "cell_type": "code",
   "execution_count": 2,
   "id": "51c6af4a-38e0-48b5-8522-38b90098e5a3",
   "metadata": {},
   "outputs": [],
   "source": [
    "def keyword is used to create a function in python. "
   ]
  },
  {
   "cell_type": "code",
   "execution_count": 20,
   "id": "f278f2fd-0101-4de5-873e-c42c495d6f89",
   "metadata": {},
   "outputs": [],
   "source": [
    "#Function to return a list of odd numbers in the range of 1 to 25 \n",
    "def odd():\n",
    "    for i in range(1,26):\n",
    "        if (i%2!=0):\n",
    "            print(i, end=\" \")"
   ]
  },
  {
   "cell_type": "code",
   "execution_count": 21,
   "id": "a1747311-665c-4b65-b6c5-962956cdbf8b",
   "metadata": {},
   "outputs": [
    {
     "name": "stdout",
     "output_type": "stream",
     "text": [
      "1 3 5 7 9 11 13 15 17 19 21 23 25 "
     ]
    }
   ],
   "source": [
    "odd()"
   ]
  },
  {
   "cell_type": "markdown",
   "id": "d0367978-4ca8-41ab-975a-abc170d07630",
   "metadata": {},
   "source": [
    "### Q2. Why *args and **kwargs is used in some functions? Create a function each for *args and **kwargs to demonstrate their use."
   ]
  },
  {
   "cell_type": "markdown",
   "id": "517bae95-f850-4446-829d-09c381d8927d",
   "metadata": {},
   "source": [
    "##### *args and **kwargs are used in Python functions to allow the function to accept an arbitrary number of arguments and keyword arguments respectively.\n",
    "\n",
    "*args is used to pass a variable number of non-keyword arguments to a function. The arguments are passed to the function as a tuple. Here's an example of how to use *args in a function:\n"
   ]
  },
  {
   "cell_type": "code",
   "execution_count": 22,
   "id": "cc683959-db9e-4faf-afab-0cc9c15c3f40",
   "metadata": {},
   "outputs": [
    {
     "name": "stdout",
     "output_type": "stream",
     "text": [
      "6\n",
      "100\n"
     ]
    }
   ],
   "source": [
    "def sum_numbers(*args):\n",
    "    total = 0\n",
    "    for num in args:\n",
    "        total += num\n",
    "    return total\n",
    "\n",
    "# Example usage\n",
    "print(sum_numbers(1, 2, 3))  # Output: 6\n",
    "print(sum_numbers(10, 20, 30, 40))  # Output: 100\n"
   ]
  },
  {
   "cell_type": "markdown",
   "id": "58b21c52-7fa4-4f6c-9fb4-94401bcd4e75",
   "metadata": {},
   "source": [
    "#### **kwargs is used to pass a variable number of keyword arguments to a function. The arguments are passed to the function as a dictionary. Here's an example of how to use **kwargs in a function:"
   ]
  },
  {
   "cell_type": "code",
   "execution_count": 23,
   "id": "433b7dc2-9e22-426c-9213-7b4619166503",
   "metadata": {},
   "outputs": [
    {
     "name": "stdout",
     "output_type": "stream",
     "text": [
      "name: John\n",
      "age: 30\n",
      "occupation: Engineer\n"
     ]
    }
   ],
   "source": [
    "def print_info(**kwargs):\n",
    "    for key, value in kwargs.items():\n",
    "        print(f\"{key}: {value}\")\n",
    "\n",
    "# Example usage\n",
    "print_info(name=\"John\", age=30, occupation=\"Engineer\")\n"
   ]
  },
  {
   "cell_type": "markdown",
   "id": "44abfb8d-598e-426c-9a32-d6fd66fbbf38",
   "metadata": {},
   "source": [
    "## Q3. What is an iterator in python? Name the method used to initialise the iterator object and the method used for iteration. Use these methods to print the first five elements of the given list [2, 4, 6, 8, 10, 12, 14, 16, 18, 20]."
   ]
  },
  {
   "cell_type": "markdown",
   "id": "c0e859f2-c3de-404e-af30-f7a97ef81c3e",
   "metadata": {},
   "source": [
    "##### In Python, an iterator is an object that can be iterated (looped) upon, meaning that you can traverse through all the values. An iterator in Python implements two methods, __iter__() and __next__(). The __iter__() method initializes the iterator object, and the __next__() method returns the next value in the iterator.\n",
    "Code for the print first five elements:"
   ]
  },
  {
   "cell_type": "code",
   "execution_count": 24,
   "id": "7b8fd898-25a4-448d-bf81-0d5b9a3188a7",
   "metadata": {},
   "outputs": [
    {
     "name": "stdout",
     "output_type": "stream",
     "text": [
      "2\n",
      "4\n",
      "6\n",
      "8\n",
      "10\n"
     ]
    }
   ],
   "source": [
    "my_list = [2, 4, 6, 8, 10, 12, 14, 16, 18, 20]\n",
    "\n",
    "# Create an iterator object\n",
    "my_iter = iter(my_list)\n",
    "\n",
    "# Iterate over the first five elements of the iterator\n",
    "for i in range(5):\n",
    "    print(next(my_iter))\n"
   ]
  },
  {
   "cell_type": "markdown",
   "id": "008a5ab3-d744-4854-8cb2-e2e0d6c3e327",
   "metadata": {},
   "source": [
    "## Q4. What is a generator function in python? Why yield keyword is used? Give an example of a generator function."
   ]
  },
  {
   "cell_type": "markdown",
   "id": "7cf46799-47a5-4c06-a6db-de610186ed61",
   "metadata": {},
   "source": [
    "#### A generator function is a special kind of function in Python that returns an iterator object. Instead of returning a single value and exiting, a generator function can yield a sequence of values using the yield keyword. The generator function preserves its state between each yield statement, allowing it to resume from where it left off the next time it is called.\n",
    "#### Here's an example of a generator function that generates the sequence of square numbers:"
   ]
  },
  {
   "cell_type": "code",
   "execution_count": 27,
   "id": "9d3e3dd1-c4e4-43aa-8e11-4baa9c03d257",
   "metadata": {},
   "outputs": [
    {
     "name": "stdout",
     "output_type": "stream",
     "text": [
      "0\n",
      "1\n",
      "4\n",
      "9\n",
      "16\n"
     ]
    }
   ],
   "source": [
    "def square_numbers(n):\n",
    "    for i in range(n):\n",
    "        yield i ** 2\n",
    "\n",
    "# Example usage\n",
    "for num in square_numbers(5):\n",
    "    print(num)\n"
   ]
  },
  {
   "cell_type": "markdown",
   "id": "074b2430-6896-4884-87cc-ca7ca5ad9d19",
   "metadata": {},
   "source": [
    "## Q5. Create a generator function for prime numbers less than 1000. Use the next() method to print the first 20 prime numbers."
   ]
  },
  {
   "cell_type": "code",
   "execution_count": 31,
   "id": "32bb3feb-24e0-46b3-b418-2a38736cef29",
   "metadata": {},
   "outputs": [
    {
     "name": "stdout",
     "output_type": "stream",
     "text": [
      "2\n",
      "3\n",
      "5\n",
      "7\n",
      "11\n",
      "13\n",
      "17\n",
      "19\n",
      "23\n",
      "29\n",
      "31\n",
      "37\n",
      "41\n",
      "43\n",
      "47\n",
      "53\n",
      "59\n",
      "61\n",
      "67\n",
      "71\n"
     ]
    }
   ],
   "source": [
    "def prime_numbers():\n",
    "    # First prime number is 2\n",
    "    yield 2\n",
    "    primes = [2]\n",
    "    # Check odd numbers for primality\n",
    "    for i in range(3, 1000, 2):\n",
    "        if all(i % p != 0 for p in primes):\n",
    "            primes.append(i)\n",
    "            yield i\n",
    "\n",
    "\n",
    "# Create the prime number generator\n",
    "prime_gen = prime_numbers()\n",
    "\n",
    "# Print the first 20 prime numbers\n",
    "for i in range(20):\n",
    "    print(next(prime_gen))\n"
   ]
  },
  {
   "cell_type": "code",
   "execution_count": null,
   "id": "92c76d07-21ea-4208-ac4c-1a47c92bbcf2",
   "metadata": {},
   "outputs": [],
   "source": []
  }
 ],
 "metadata": {
  "kernelspec": {
   "display_name": "Python 3 (ipykernel)",
   "language": "python",
   "name": "python3"
  },
  "language_info": {
   "codemirror_mode": {
    "name": "ipython",
    "version": 3
   },
   "file_extension": ".py",
   "mimetype": "text/x-python",
   "name": "python",
   "nbconvert_exporter": "python",
   "pygments_lexer": "ipython3",
   "version": "3.10.8"
  }
 },
 "nbformat": 4,
 "nbformat_minor": 5
}
