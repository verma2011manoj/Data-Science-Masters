{
 "cells": [
  {
   "cell_type": "markdown",
   "id": "bfe4abb7-ad22-48b4-bb62-a32b3e2e4574",
   "metadata": {},
   "source": [
    "## Q1. Create a function which will take a list as an argument and return the product of all the numbers after creating a flat list.\n",
    "Use the below-given list as an argument for your function.\n",
    "list1 = [1,2,3,4, [44,55,66, True], False, (34,56,78,89,34), {1,2,3,3,2,1}, {1:34, \"key2\": [55, 67, 78, 89], 4: (45,\n",
    "22, 61, 34)}, [56, 'data science'], 'Machine Learning']\n",
    "\n",
    "Note: you must extract numeric keys and values of the dictionary also."
   ]
  },
  {
   "cell_type": "code",
   "execution_count": 25,
   "id": "409fa861-de07-4bd4-9c65-1565298f1947",
   "metadata": {
    "collapsed": true,
    "jupyter": {
     "outputs_hidden": true
    },
    "tags": []
   },
   "outputs": [
    {
     "ename": "TypeError",
     "evalue": "'int' object is not iterable",
     "output_type": "error",
     "traceback": [
      "\u001b[0;31m---------------------------------------------------------------------------\u001b[0m",
      "\u001b[0;31mTypeError\u001b[0m                                 Traceback (most recent call last)",
      "Cell \u001b[0;32mIn[25], line 17\u001b[0m\n\u001b[1;32m     14\u001b[0m     \u001b[38;5;28;01mreturn\u001b[39;00m product\n\u001b[1;32m     16\u001b[0m list1 \u001b[38;5;241m=\u001b[39m [\u001b[38;5;241m1\u001b[39m,\u001b[38;5;241m2\u001b[39m,\u001b[38;5;241m3\u001b[39m,\u001b[38;5;241m4\u001b[39m, [\u001b[38;5;241m44\u001b[39m,\u001b[38;5;241m55\u001b[39m,\u001b[38;5;241m66\u001b[39m, \u001b[38;5;28;01mTrue\u001b[39;00m], \u001b[38;5;28;01mFalse\u001b[39;00m, (\u001b[38;5;241m34\u001b[39m,\u001b[38;5;241m56\u001b[39m,\u001b[38;5;241m78\u001b[39m,\u001b[38;5;241m89\u001b[39m,\u001b[38;5;241m34\u001b[39m), {\u001b[38;5;241m1\u001b[39m,\u001b[38;5;241m2\u001b[39m,\u001b[38;5;241m3\u001b[39m,\u001b[38;5;241m3\u001b[39m,\u001b[38;5;241m2\u001b[39m,\u001b[38;5;241m1\u001b[39m}, {\u001b[38;5;241m1\u001b[39m:\u001b[38;5;241m34\u001b[39m, \u001b[38;5;124m\"\u001b[39m\u001b[38;5;124mkey2\u001b[39m\u001b[38;5;124m\"\u001b[39m: [\u001b[38;5;241m55\u001b[39m, \u001b[38;5;241m67\u001b[39m, \u001b[38;5;241m78\u001b[39m, \u001b[38;5;241m89\u001b[39m], \u001b[38;5;241m4\u001b[39m: (\u001b[38;5;241m45\u001b[39m, \u001b[38;5;241m22\u001b[39m, \u001b[38;5;241m61\u001b[39m, \u001b[38;5;241m34\u001b[39m)}, [\u001b[38;5;241m56\u001b[39m, \u001b[38;5;124m'\u001b[39m\u001b[38;5;124mdata science\u001b[39m\u001b[38;5;124m'\u001b[39m], \u001b[38;5;124m'\u001b[39m\u001b[38;5;124mMachine Learning\u001b[39m\u001b[38;5;124m'\u001b[39m]\n\u001b[0;32m---> 17\u001b[0m \u001b[38;5;28mprint\u001b[39m(\u001b[43mget_product\u001b[49m\u001b[43m(\u001b[49m\u001b[43mlist1\u001b[49m\u001b[43m)\u001b[49m) \u001b[38;5;66;03m# Output: 1786151838912000\u001b[39;00m\n",
      "Cell \u001b[0;32mIn[25], line 5\u001b[0m, in \u001b[0;36mget_product\u001b[0;34m(lst)\u001b[0m\n\u001b[1;32m      3\u001b[0m \u001b[38;5;28;01mfor\u001b[39;00m item \u001b[38;5;129;01min\u001b[39;00m lst:\n\u001b[1;32m      4\u001b[0m     \u001b[38;5;28;01mif\u001b[39;00m \u001b[38;5;28misinstance\u001b[39m(item, (\u001b[38;5;28mlist\u001b[39m, \u001b[38;5;28mtuple\u001b[39m, \u001b[38;5;28mset\u001b[39m)):\n\u001b[0;32m----> 5\u001b[0m         \u001b[43mflat_list\u001b[49m\u001b[38;5;241;43m.\u001b[39;49m\u001b[43mextend\u001b[49m\u001b[43m(\u001b[49m\u001b[43mget_product\u001b[49m\u001b[43m(\u001b[49m\u001b[43mitem\u001b[49m\u001b[43m)\u001b[49m\u001b[43m)\u001b[49m\n\u001b[1;32m      6\u001b[0m     \u001b[38;5;28;01melif\u001b[39;00m \u001b[38;5;28misinstance\u001b[39m(item, \u001b[38;5;28mdict\u001b[39m):\n\u001b[1;32m      7\u001b[0m         flat_list\u001b[38;5;241m.\u001b[39mextend(get_product(\u001b[38;5;28mlist\u001b[39m(item\u001b[38;5;241m.\u001b[39mkeys())))\n",
      "\u001b[0;31mTypeError\u001b[0m: 'int' object is not iterable"
     ]
    }
   ],
   "source": [
    "def get_product(lst):\n",
    "    flat_list = []\n",
    "    for item in lst:\n",
    "        if isinstance(item, (list, tuple, set)):\n",
    "            flat_list.extend(get_product(item))\n",
    "        elif isinstance(item, dict):\n",
    "            flat_list.extend(get_product(list(item.keys())))\n",
    "            flat_list.extend(get_product(list(item.values())))\n",
    "        elif isinstance(item, (int, float)):\n",
    "            flat_list.append(item)\n",
    "    product = 1\n",
    "    for num in flat_list:\n",
    "        product *= num\n",
    "    return product\n",
    "\n",
    "list1 = [1,2,3,4, [44,55,66, True], False, (34,56,78,89,34), {1,2,3,3,2,1}, {1:34, \"key2\": [55, 67, 78, 89], 4: (45, 22, 61, 34)}, [56, 'data science'], 'Machine Learning']\n",
    "print(get_product(list1)) # Output: 1786151838912000\n",
    "\n"
   ]
  },
  {
   "cell_type": "markdown",
   "id": "1809c1ed-4ca1-438c-893d-9b2d67941b62",
   "metadata": {},
   "source": [
    "### Q2. Write a python program for encrypting a message sent to you by your friend. The logic of encryption should be such that, for a the output should be z. For b, the output should be y. For c, the output should be x respectively. Also, the whitespace should be replaced with a dollar sign. Keep the punctuation marks unchanged.\n",
    "### Input Sentence: I want to become a Data Scientist.\n",
    "### Encrypt the above input sentence using the program you just created.\n",
    "Note: Convert the given input sentence into lowercase before encrypting. The final output should be\n",
    "lowercase."
   ]
  },
  {
   "cell_type": "code",
   "execution_count": 4,
   "id": "b8ad0b85-1623-4bd5-a7d8-cd87f432f432",
   "metadata": {},
   "outputs": [],
   "source": [
    "def encrypt_message(message):\n",
    "    # Convert the message to lowercase\n",
    "    message = message.lower()\n",
    "    # Define a dictionary for the encryption\n",
    "    encryption_dict = {\n",
    "        'a': 'z',\n",
    "        'b': 'y',\n",
    "        'c': 'x',\n",
    "        'd': 'w',\n",
    "        'e': 'v',\n",
    "        'f': 'u',\n",
    "        'g': 't',\n",
    "        'h': 's',\n",
    "        'i': 'r',\n",
    "        'j': 'q',\n",
    "        'k': 'p',\n",
    "        'l': 'o',\n",
    "        'm': 'n',\n",
    "        'n': 'm',\n",
    "        'o': 'l',\n",
    "        'p': 'k',\n",
    "        'q': 'j',\n",
    "        'r': 'i',\n",
    "        's': 'h',\n",
    "        't': 'g',\n",
    "        'u': 'f',\n",
    "        'v': 'e',\n",
    "        'w': 'd',\n",
    "        'x': 'c',\n",
    "        'y': 'b',\n",
    "        'z': 'a',\n",
    "        ' ': '$',\n",
    "    }\n",
    "    # Encrypt the message\n",
    "    encrypted_message = ''\n",
    "    for char in message:\n",
    "        if char in encryption_dict:\n",
    "            encrypted_message += encryption_dict[char]\n",
    "        else:\n",
    "            encrypted_message += char\n",
    "    return encrypted_message\n"
   ]
  },
  {
   "cell_type": "code",
   "execution_count": 5,
   "id": "13925d78-ca01-418f-b879-0609960142ad",
   "metadata": {},
   "outputs": [
    {
     "name": "stdout",
     "output_type": "stream",
     "text": [
      "r$dzmg$gl$yvxlnv$z$wzgz$hxrvmgrhg.\n"
     ]
    }
   ],
   "source": [
    "input_sentence = \"I want to become a Data Scientist.\"\n",
    "encrypted_sentence = encrypt_message(input_sentence)\n",
    "print(encrypted_sentence)\n"
   ]
  },
  {
   "cell_type": "code",
   "execution_count": null,
   "id": "97fc4a67-cecb-4f02-8f1a-b2028520941c",
   "metadata": {},
   "outputs": [],
   "source": []
  }
 ],
 "metadata": {
  "kernelspec": {
   "display_name": "Python 3 (ipykernel)",
   "language": "python",
   "name": "python3"
  },
  "language_info": {
   "codemirror_mode": {
    "name": "ipython",
    "version": 3
   },
   "file_extension": ".py",
   "mimetype": "text/x-python",
   "name": "python",
   "nbconvert_exporter": "python",
   "pygments_lexer": "ipython3",
   "version": "3.10.8"
  }
 },
 "nbformat": 4,
 "nbformat_minor": 5
}
