{
 "cells": [
  {
   "cell_type": "markdown",
   "id": "910a2431-7606-46b1-a20d-effe16c5407a",
   "metadata": {},
   "source": [
    "## Q1. What is an API? Give an example, where an API is used in real life."
   ]
  },
  {
   "cell_type": "markdown",
   "id": "d25255d9-30a6-4ea6-9034-07e9e3404d17",
   "metadata": {},
   "source": [
    "An API allows two software applications to interact with each other by sharing data and functionality. An API acts as a mediator between two applications, enabling them to communicate with each other.\n",
    "A real life example is social media sites, passenger travelling through flights, e commerce websites, etc.."
   ]
  },
  {
   "cell_type": "markdown",
   "id": "e2638360-4b1c-4f0a-b020-522d9426875d",
   "metadata": {},
   "source": [
    "## Q2. Give advantages and disadvantages of using API."
   ]
  },
  {
   "cell_type": "markdown",
   "id": "51dff6df-b96f-4069-9a2e-207ab45ef208",
   "metadata": {},
   "source": [
    "Advantages:\n",
    "    Increased Interoperability\n",
    "    \n",
    "    Improved Efficiency\n",
    "    \n",
    "    Better User Experience\n",
    "    \n",
    "    Increased Flexibility\n",
    "    \n",
    "    New Revenue Streams\n",
    "    \n",
    "    \n",
    "\n",
    "Disadvantages:\n",
    "    Security Concerns\n",
    "    \n",
    "    Complexity\n",
    "    \n",
    "    Compatibility Issues\n",
    "    \n",
    "    Dependency on Third-Party Developers"
   ]
  },
  {
   "cell_type": "markdown",
   "id": "896c1fd3-bcb6-4643-a1bd-2fbe1707712e",
   "metadata": {},
   "source": [
    "## Q3. What is a Web API? Differentiate between API and Web API."
   ]
  },
  {
   "cell_type": "markdown",
   "id": "f9296373-ac3e-4946-bedd-899b317ddb54",
   "metadata": {},
   "source": [
    "A Web API is a set of standards and protocols for accessing web-based software applications or web tools. It provides a way for different software systems to communicate with each other over the internet.\n",
    "\n",
    "API - \n",
    "Scope - can be used for communication and interaction between different software components, systems, or applications. \n",
    "\n",
    "Communication: APIs can use various communication protocols, not limited to HTTP. They can use protocols like RPC, SOAP\n",
    "\n",
    "Context: APIs can exist in both web and non-web contexts. \n",
    "\n",
    "Web API - \n",
    "Context: Web APIs specifically refer to APIs that are exposed over the web using HTTP protocols.\n",
    "\n",
    "Communication: Web APIs exclusively use HTTP methods (like GET, POST, PUT, DELETE) for communication.\n",
    "\n",
    "Access: Web APIs are accessed over the internet\n",
    "\n",
    "RESTful APIs and GraphQL APIs."
   ]
  },
  {
   "cell_type": "markdown",
   "id": "3f6a12ed-0cff-4c30-9196-e01b170eb953",
   "metadata": {},
   "source": [
    "## Q4. Explain REST and SOAP Architecture. Mention shortcomings of SOAP."
   ]
  },
  {
   "cell_type": "markdown",
   "id": "7e147664-ee52-45fc-92be-af33a63aec15",
   "metadata": {},
   "source": [
    "REST (Representational State Transfer): REST is an architectural style for designing networked applications, particularly web services, that focuses on a few key principles to achieve scalability, simplicity, and ease of integration. \n",
    "\n",
    "SOAP (Simple Object Access Protocol): SOAP is a protocol for exchanging structured information in the implementation of web services. It defines a set of rules for structuring messages and performing remote procedure calls (RPCs) over the internet.\n",
    "\n",
    "\n",
    "Shortcomings of SOAP:\n",
    "\n",
    "Complexity\n",
    "\n",
    "Overhead\n",
    "\n",
    "Lack of Caching\n",
    "\n",
    "SOAP's rigid structure can lead to compatibility issues when dealing with variations in different implementations.\n",
    "\n",
    "Limited Browser Support\n",
    "\n",
    "Working with SOAP often requires specialized tools and libraries, which can increase development complexity and learning curves."
   ]
  },
  {
   "cell_type": "markdown",
   "id": "daea2b5b-9082-4669-b711-22338a6685fe",
   "metadata": {},
   "source": [
    "## Q5. Differentiate between REST and SOAP."
   ]
  },
  {
   "cell_type": "markdown",
   "id": "49778fc5-7865-43aa-9aed-aacbdb3fdc89",
   "metadata": {},
   "source": [
    "REST (Representational State Transfer):\n",
    "\n",
    "Style: Architectural style for designing web services.\n",
    "\n",
    "Communication: Uses lightweight methods like HTTP verbs (GET, POST, PUT, DELETE).\n",
    "\n",
    "Message Format: Data often transmitted as JSON.\n",
    "\n",
    "State: Stateless communication; each request contains all info.\n",
    "\n",
    "Complexity: Simple and easy to understand.\n",
    "\n",
    "Caching: Supports caching for improved performance.\n",
    "\n",
    "Security: Built-in security features are less elaborate.\n",
    "\n",
    "Platform: Platform-independent and browser-friendly.\n",
    "\n",
    "Usage: Suited for lightweight, scalable, and browser-based applications.\n",
    "\n",
    "\n",
    "\n",
    "SOAP (Simple Object Access Protocol):\n",
    "\n",
    "Protocol: Protocol for exchanging structured information in web services.\n",
    "\n",
    "Communication: XML-based messages sent over various protocols.\n",
    "\n",
    "Message Format: Data transmitted as XML.\n",
    "\n",
    "State: Can be stateful or stateless, depending on implementation.\n",
    "\n",
    "Complexity: More complex due to rigid structure and features.\n",
    "\n",
    "Caching: Caching can be challenging due to stateful nature.\n",
    "\n",
    "Security: Supports advanced security features.\n",
    "\n",
    "Platform: Platform-independent but less browser-friendly.\n",
    "\n",
    "Usage: Suitable for complex operations, transactions, and security-focused applications.\n",
    "\n",
    "In summary, REST is simpler, lighter, and better suited for web applications, while SOAP is more complex, feature-rich, and suitable for applications requiring advanced security and complex interactions.\n",
    "\n",
    "\n",
    "\n",
    "\n",
    "\n"
   ]
  },
  {
   "cell_type": "code",
   "execution_count": null,
   "id": "e1832009-de19-46d3-9e7d-9e122b2b273d",
   "metadata": {},
   "outputs": [],
   "source": []
  }
 ],
 "metadata": {
  "kernelspec": {
   "display_name": "Python 3 (ipykernel)",
   "language": "python",
   "name": "python3"
  },
  "language_info": {
   "codemirror_mode": {
    "name": "ipython",
    "version": 3
   },
   "file_extension": ".py",
   "mimetype": "text/x-python",
   "name": "python",
   "nbconvert_exporter": "python",
   "pygments_lexer": "ipython3",
   "version": "3.10.8"
  }
 },
 "nbformat": 4,
 "nbformat_minor": 5
}
