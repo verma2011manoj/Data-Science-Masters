{
 "cells": [
  {
   "cell_type": "code",
   "execution_count": null,
   "id": "081ca34a-a80c-4a71-b3f2-d6c771676b92",
   "metadata": {},
   "outputs": [],
   "source": [
    "Sol 1:- Characteristics of tuples are - \n",
    "Tuple items are ordered, unchangeable, and allow duplicate values.\n",
    "Tuple items are indexed, the first item has index [0], the second item has index [1] etc.\n",
    "Tuples are immutable."
   ]
  },
  {
   "cell_type": "markdown",
   "id": "83e687ee-3a37-4b7c-837b-a70eba35202a",
   "metadata": {},
   "source": [
    "## Sol 2:- "
   ]
  },
  {
   "cell_type": "code",
   "execution_count": 1,
   "id": "5bc3e955-8d6a-4541-b0a0-0fe424e178a2",
   "metadata": {
    "collapsed": true,
    "jupyter": {
     "outputs_hidden": true
    },
    "tags": []
   },
   "outputs": [
    {
     "ename": "SyntaxError",
     "evalue": "invalid character '’' (U+2019) (1536270817.py, line 12)",
     "output_type": "error",
     "traceback": [
      "\u001b[0;36m  Cell \u001b[0;32mIn[1], line 12\u001b[0;36m\u001b[0m\n\u001b[0;31m    Lists are mutable while tuples are immutable, and this marks the key difference between the two. That’s why tuples have only two methods as compared to list.\u001b[0m\n\u001b[0m                                                                                                         ^\u001b[0m\n\u001b[0;31mSyntaxError\u001b[0m\u001b[0;31m:\u001b[0m invalid character '’' (U+2019)\n"
     ]
    }
   ],
   "source": [
    "Tuple methods in python - \n",
    "count() -  Returns the number of times a specified value occurs in a tuple\n",
    "Example - "
   ]
  },
  {
   "cell_type": "code",
   "execution_count": 13,
   "id": "692464fe-1ba7-4032-92d4-f6dbdb9fff29",
   "metadata": {},
   "outputs": [
    {
     "name": "stdout",
     "output_type": "stream",
     "text": [
      "2\n"
     ]
    }
   ],
   "source": [
    "thistuple = (1, 3, 7, 8, 7, 5, 4, 6, 8, 5)\n",
    "x = thistuple.count(5)\n",
    "print (x)"
   ]
  },
  {
   "cell_type": "code",
   "execution_count": null,
   "id": "61b85b3d-8ec9-438f-b23b-92e26a6b1f7f",
   "metadata": {},
   "outputs": [],
   "source": [
    "index() - Searches the tuple for a specified value and returns the position of where it was found\n",
    "Example -"
   ]
  },
  {
   "cell_type": "code",
   "execution_count": 14,
   "id": "10f35fce-8813-4835-a0f9-89e80eef2427",
   "metadata": {},
   "outputs": [
    {
     "name": "stdout",
     "output_type": "stream",
     "text": [
      "3\n"
     ]
    }
   ],
   "source": [
    "thistuple = (1, 3, 7, 8, 7, 5, 4, 6, 8, 5)\n",
    "x = thistuple.index(8)\n",
    "print (x)"
   ]
  },
  {
   "cell_type": "code",
   "execution_count": null,
   "id": "0c856dd8-4ac3-49d1-8636-920dad9e1d59",
   "metadata": {},
   "outputs": [],
   "source": [
    "Lists are mutable while tuples are immutable, and this marks the key difference between the two. That’s why tuples have only two methods as compared to list."
   ]
  },
  {
   "cell_type": "markdown",
   "id": "48991c5b-f987-47d0-95c3-94c4684d6832",
   "metadata": {},
   "source": [
    "## Sol 3:- \n"
   ]
  },
  {
   "cell_type": "code",
   "execution_count": null,
   "id": "1fc83984-c6be-45a3-9c49-51fbf4782770",
   "metadata": {},
   "outputs": [],
   "source": [
    "Sol 3:- \n",
    "Dictionary  does not allow duplicate items in python."
   ]
  },
  {
   "cell_type": "code",
   "execution_count": 12,
   "id": "509f105f-48d1-49dd-afb7-20cf79f48988",
   "metadata": {},
   "outputs": [
    {
     "name": "stdout",
     "output_type": "stream",
     "text": [
      "{1, 2, 3, 4}\n"
     ]
    }
   ],
   "source": [
    "#code to remove duplicates from list  - \n",
    "List=[1,1,1,2,1,3,1,4,2,1,2,2,2,2,3,2,4,3,1,3,2,2,2,2,3,3,4,4,1,4,2,3,4,4]\n",
    "print(set(List))"
   ]
  },
  {
   "cell_type": "markdown",
   "id": "bc5f1d7a-7a18-43ad-bdcc-6bc7e3b6a467",
   "metadata": {},
   "source": [
    "## Sol 4:-\n"
   ]
  },
  {
   "cell_type": "code",
   "execution_count": null,
   "id": "ee62aa06-2f33-423e-a763-c00ee9b63f03",
   "metadata": {},
   "outputs": [],
   "source": [
    "Sol 4:- update() adds all missing elements to the set on which it is called whereas set. union() creates a new set.\n",
    "Update () example - "
   ]
  },
  {
   "cell_type": "code",
   "execution_count": 10,
   "id": "d49e829d-7f18-40d3-9fbe-29077978439c",
   "metadata": {},
   "outputs": [
    {
     "data": {
      "text/plain": [
       "{1, 2, 3, 4, 5}"
      ]
     },
     "execution_count": 10,
     "metadata": {},
     "output_type": "execute_result"
    }
   ],
   "source": [
    "s = {1, 2, 3}\n",
    "s.update({4, 5})\n",
    "s"
   ]
  },
  {
   "cell_type": "code",
   "execution_count": null,
   "id": "cd53e5cc-4025-4a7e-99ab-d9b6b6bb4429",
   "metadata": {},
   "outputs": [],
   "source": [
    "union() example - "
   ]
  },
  {
   "cell_type": "code",
   "execution_count": 11,
   "id": "b2dec11d-e3f2-4ad0-9bb5-9624ca6c6edc",
   "metadata": {},
   "outputs": [
    {
     "name": "stdout",
     "output_type": "stream",
     "text": [
      "{'google', 'banana', 'apple', 'microsoft', 'cherry'}\n"
     ]
    }
   ],
   "source": [
    "x = {\"apple\", \"banana\", \"cherry\"}\n",
    "y = {\"google\", \"microsoft\", \"apple\"}\n",
    "z = x.union(y)\n",
    "print(z)"
   ]
  },
  {
   "cell_type": "markdown",
   "id": "e162a98f-a447-42e4-bf67-b6a9baafd03d",
   "metadata": {},
   "source": [
    "## Sol 5:- \n",
    "\n"
   ]
  },
  {
   "cell_type": "code",
   "execution_count": null,
   "id": "3913957b-ed49-474f-bcb3-1a529d41a8b3",
   "metadata": {},
   "outputs": [],
   "source": [
    "Dictionary - A dictionary is a collection which is ordered, changeable and do not allow duplicates.\n",
    "Dictionaries are used to store data values in key:value pairs.\n",
    "(As of Python version 3.7, dictionaries are ordered. In Python 3.6 and earlier, dictionaries are unordered.)\n",
    "Dictionaries are written with curly brackets, and have keys and values:\n",
    "Example - "
   ]
  },
  {
   "cell_type": "code",
   "execution_count": 8,
   "id": "fd194449-d017-4289-b733-411a7a70190b",
   "metadata": {},
   "outputs": [
    {
     "name": "stdout",
     "output_type": "stream",
     "text": [
      "{'brand': 'Ford', 'model': 'Mustang', 'year': 1964}\n"
     ]
    }
   ],
   "source": [
    "thisdict = {\n",
    "  \"brand\": \"Ford\",\n",
    "  \"model\": \"Mustang\",\n",
    "  \"year\": 1964\n",
    "}\n",
    "print(thisdict)"
   ]
  },
  {
   "cell_type": "markdown",
   "id": "2a90de21-0258-42c4-85ce-720ef1cbbc62",
   "metadata": {},
   "source": [
    "## Sol 6:- \n",
    "\n"
   ]
  },
  {
   "cell_type": "markdown",
   "id": "0e55aa86-06ad-48f4-afdb-dd595f1c5e39",
   "metadata": {},
   "source": [
    "A dictionary can contain dictionaries, this is called nested dictionaries. Here is an example of nested dictionary:- \n"
   ]
  },
  {
   "cell_type": "code",
   "execution_count": 7,
   "id": "3a860b6a-9eac-413e-903f-756dc0410109",
   "metadata": {},
   "outputs": [
    {
     "name": "stdout",
     "output_type": "stream",
     "text": [
      "{'child1': {'name': 'Emil', 'year': 2004}, 'child2': {'name': 'Tobias', 'year': 2007}, 'child3': {'name': 'Linus', 'year': 2011}}\n"
     ]
    }
   ],
   "source": [
    "myfamily = {\n",
    "  \"child1\" : {\n",
    "    \"name\" : \"Emil\",\n",
    "    \"year\" : 2004\n",
    "  },\n",
    "  \"child2\" : {\n",
    "    \"name\" : \"Tobias\",\n",
    "    \"year\" : 2007\n",
    "  },\n",
    "  \"child3\" : {\n",
    "    \"name\" : \"Linus\",\n",
    "    \"year\" : 2011\n",
    "  }\n",
    "}\n",
    "print(myfamily)\n"
   ]
  },
  {
   "cell_type": "markdown",
   "id": "07aae425-9236-4e86-9730-3b7f63b3c06c",
   "metadata": {},
   "source": [
    "## Sol 7:- \n",
    "\n"
   ]
  },
  {
   "cell_type": "code",
   "execution_count": 5,
   "id": "2d18d975-dfb8-4a32-9873-bcf271e9dd0e",
   "metadata": {},
   "outputs": [
    {
     "name": "stdout",
     "output_type": "stream",
     "text": [
      "'Python', 'Machine learning', 'Deep Learning'\n"
     ]
    }
   ],
   "source": [
    "dic1= {\n",
    "  \"language\": \"Python\",\n",
    "  \"course\": \"Data Science Masters\",\n",
    "  }\n",
    "x = dic1.setdefault(\"topics\", \"'Python', 'Machine learning', 'Deep Learning'\")\n",
    "print(x)\n"
   ]
  },
  {
   "cell_type": "markdown",
   "id": "a0cb3436-73d0-4035-8875-b01d30f4bbe2",
   "metadata": {},
   "source": [
    "## Sol 8:- \n",
    "\n"
   ]
  },
  {
   "cell_type": "code",
   "execution_count": null,
   "id": "094a604e-5a63-4def-bf09-f480eec768b0",
   "metadata": {},
   "outputs": [],
   "source": [
    "The main view objects of dictionary in python are keys, values and items. They provide a non-constant view of the dictionary’s entries.\n",
    "Keys holds all the keys of the dictionary, the values objects holds all the values, whereas the items holds the key-value pairs."
   ]
  },
  {
   "cell_type": "code",
   "execution_count": 3,
   "id": "1839b27b-e020-4e0b-8c50-0bb00389f17f",
   "metadata": {},
   "outputs": [
    {
     "name": "stdout",
     "output_type": "stream",
     "text": [
      "{'Sport': 'Cricket', 'Teams': ['India', 'Australia', 'England', 'South Africa', 'Sri Lanka', 'New Zealand']}\n"
     ]
    }
   ],
   "source": [
    "dict1 = {'Sport': 'Cricket' , 'Teams': ['India', 'Australia', 'England', 'South Africa', 'Sri Lanka', 'New Zealand']}\n",
    "print(dict1)"
   ]
  },
  {
   "cell_type": "code",
   "execution_count": null,
   "id": "7ec2fa51-a0aa-472e-b72e-71c6a716d471",
   "metadata": {},
   "outputs": [],
   "source": []
  },
  {
   "cell_type": "code",
   "execution_count": null,
   "id": "7e6b7412-636d-4b1f-af8b-4f19f87b92d2",
   "metadata": {},
   "outputs": [],
   "source": []
  }
 ],
 "metadata": {
  "kernelspec": {
   "display_name": "Python 3 (ipykernel)",
   "language": "python",
   "name": "python3"
  },
  "language_info": {
   "codemirror_mode": {
    "name": "ipython",
    "version": 3
   },
   "file_extension": ".py",
   "mimetype": "text/x-python",
   "name": "python",
   "nbconvert_exporter": "python",
   "pygments_lexer": "ipython3",
   "version": "3.10.8"
  }
 },
 "nbformat": 4,
 "nbformat_minor": 5
}
